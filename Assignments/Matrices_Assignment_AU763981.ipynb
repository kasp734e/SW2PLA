{
  "cells": [
    {
      "cell_type": "markdown",
      "metadata": {
        "id": "YuX8PlWrV99p"
      },
      "source": [
        "# Introduction\n",
        "\n",
        "In this notebook you will find 6 exercises. To pass the assignment you have to correctly solve exercise 1 to 5 and to do a small research task to solve exercise 6.\n",
        "\n",
        "*   Save a copy of this file and change the XXYYZZ numbers with your AUID\n",
        "*   Upload a pdf version of this notebook into BS\n",
        "  * On codelabs you can do that by clicking: File->Print\n",
        "  * Make sure **all the cell results you ran are visible** in the pdf\n",
        "  * Make sure you **print all results** that are requested (See Example).\n",
        "\n"
      ]
    },
    {
      "cell_type": "code",
      "execution_count": 2,
      "metadata": {},
      "outputs": [],
      "source": [
        "import numpy as np"
      ]
    },
    {
      "cell_type": "markdown",
      "metadata": {
        "id": "4VofO1h1fddV"
      },
      "source": [
        "# Exercise 1\n"
      ]
    },
    {
      "cell_type": "markdown",
      "metadata": {
        "id": "VPiyhJf7fqG_"
      },
      "source": [
        "A matrix, B, is defined by the column vectors (8,0,0), (0,10,0), (0, 0, 4) \\"
      ]
    },
    {
      "cell_type": "code",
      "execution_count": 3,
      "metadata": {},
      "outputs": [],
      "source": [
        "B = np.array([[8,0,0],[0,10,0],[0,0,4]])"
      ]
    },
    {
      "cell_type": "markdown",
      "metadata": {},
      "source": [
        "### 1. What type of matrix would you call this?\n",
        "\n",
        "    Diagonal matrix"
      ]
    },
    {
      "cell_type": "markdown",
      "metadata": {},
      "source": [
        "### 2. Calculate the trace(B). "
      ]
    },
    {
      "cell_type": "code",
      "execution_count": 4,
      "metadata": {},
      "outputs": [
        {
          "name": "stdout",
          "output_type": "stream",
          "text": [
            "22\n"
          ]
        }
      ],
      "source": [
        "print(np.trace(B))"
      ]
    },
    {
      "cell_type": "markdown",
      "metadata": {},
      "source": [
        "### 3. Calculate det(B) \\"
      ]
    },
    {
      "cell_type": "code",
      "execution_count": 5,
      "metadata": {},
      "outputs": [
        {
          "name": "stdout",
          "output_type": "stream",
          "text": [
            "319.99999999999994\n"
          ]
        }
      ],
      "source": [
        "print(np.linalg.det(B))"
      ]
    },
    {
      "cell_type": "markdown",
      "metadata": {},
      "source": [
        "### 4. Calculate the norm (L2) of B using both a python function and \"manually\" in python (but without using a built-in python function - how would you do that?) The results should match."
      ]
    },
    {
      "cell_type": "code",
      "execution_count": 6,
      "metadata": {},
      "outputs": [
        {
          "name": "stdout",
          "output_type": "stream",
          "text": [
            "13.416407864998739\n"
          ]
        }
      ],
      "source": [
        "print(np.linalg.norm(B))"
      ]
    },
    {
      "cell_type": "code",
      "execution_count": 7,
      "metadata": {},
      "outputs": [
        {
          "name": "stdout",
          "output_type": "stream",
          "text": [
            "[ 8. 10.  4.]\n"
          ]
        }
      ],
      "source": [
        "def normMyMatrix(matrix):\n",
        "    total = 0\n",
        "\n",
        "    for element in matrix:\n",
        "        total = total + element ** 2\n",
        "    \n",
        "    return np.sqrt(total)\n",
        "\n",
        "print(normMyMatrix(B))\n"
      ]
    },
    {
      "cell_type": "markdown",
      "metadata": {},
      "source": [
        "### 5. Given a vector, v, defined by the coordinates (2,3,4), calculate Bv."
      ]
    },
    {
      "cell_type": "code",
      "execution_count": 8,
      "metadata": {},
      "outputs": [
        {
          "name": "stdout",
          "output_type": "stream",
          "text": [
            "[[16  0  0]\n",
            " [ 0 30  0]\n",
            " [ 0  0 16]]\n"
          ]
        }
      ],
      "source": [
        "v = np.array([2,3,4])\n",
        "\n",
        "print(B*v)"
      ]
    },
    {
      "cell_type": "markdown",
      "metadata": {
        "id": "1xjdHppXGJkV"
      },
      "source": [
        "# Exercise 2"
      ]
    },
    {
      "cell_type": "markdown",
      "metadata": {
        "id": "kq2jAfuiWfMr"
      },
      "source": [
        "Given a matrix, A, defined by the column vectors (1,3,5), (2,5,9), (2,3,6) and (-6,-9,-18)."
      ]
    },
    {
      "cell_type": "markdown",
      "metadata": {},
      "source": [
        "### 1. Construct the matrix A. "
      ]
    },
    {
      "cell_type": "code",
      "execution_count": 9,
      "metadata": {},
      "outputs": [
        {
          "name": "stdout",
          "output_type": "stream",
          "text": [
            "[[  1   2   2  -6]\n",
            " [  3   5   3  -9]\n",
            " [  5   9   6 -18]]\n"
          ]
        }
      ],
      "source": [
        "A = np.array([[1,2,2,-6],[3,5,3,-9],[5,9,6,-18]])\n",
        "print(A)"
      ]
    },
    {
      "cell_type": "markdown",
      "metadata": {},
      "source": [
        "### 2. Determine the rank of A. "
      ]
    },
    {
      "cell_type": "code",
      "execution_count": 10,
      "metadata": {},
      "outputs": [
        {
          "name": "stdout",
          "output_type": "stream",
          "text": [
            "3\n"
          ]
        }
      ],
      "source": [
        "print(np.linalg.matrix_rank(A))"
      ]
    },
    {
      "cell_type": "markdown",
      "metadata": {},
      "source": [
        "### 3. Determine det(A).\n",
        "__This cant be done since the matrix isnt square__"
      ]
    },
    {
      "cell_type": "code",
      "execution_count": 11,
      "metadata": {},
      "outputs": [],
      "source": [
        "# print(np.linalg.det(A))"
      ]
    },
    {
      "cell_type": "markdown",
      "metadata": {},
      "source": [
        "### 4. Are all the column vectors linearly independent? \n",
        "They are not since: $$\\begin{bmatrix}2\\\\3\\\\6\\end{bmatrix}\\cdot -3 = \\begin{bmatrix}-6\\\\-9\\\\-18\\end{bmatrix}$$"
      ]
    },
    {
      "cell_type": "code",
      "execution_count": 12,
      "metadata": {},
      "outputs": [
        {
          "name": "stdout",
          "output_type": "stream",
          "text": [
            "[[ True]\n",
            " [ True]\n",
            " [ True]]\n"
          ]
        }
      ],
      "source": [
        "col3 = np.array([[2],[3],[6]])\n",
        "col4 = np.array([[-6],[-9],[-18]])\n",
        "\n",
        "print(col3*-3==col4)"
      ]
    },
    {
      "cell_type": "markdown",
      "metadata": {},
      "source": [
        "### 5. Are all the row vectors linearly independent? "
      ]
    },
    {
      "cell_type": "code",
      "execution_count": 13,
      "metadata": {},
      "outputs": [
        {
          "name": "stdout",
          "output_type": "stream",
          "text": [
            "The row vectors are linearly independent.\n"
          ]
        }
      ],
      "source": [
        "ARow1 = np.array([[1,2,2,-6]])\n",
        "ARow2 = np.array([[3,5,3,-9]])\n",
        "ARow3 = np.array([[5,9,6,-18]])\n",
        "\n",
        "ARows = np.vstack((ARow1, ARow2, ARow3))\n",
        "\n",
        "ARowsRank = np.linalg.matrix_rank(ARows)\n",
        "\n",
        "if ARowsRank == ARows.shape[0]:\n",
        "    print(\"The row vectors are linearly independent.\")\n",
        "else:\n",
        "    print(\"The row vectors are not linearly independent.\")"
      ]
    },
    {
      "cell_type": "markdown",
      "metadata": {},
      "source": [
        "### 6. Does the vector (1,2,3,5) belong to the nullspace of A? \n",
        "__No__"
      ]
    },
    {
      "cell_type": "code",
      "execution_count": 14,
      "metadata": {},
      "outputs": [
        {
          "name": "stdout",
          "output_type": "stream",
          "text": [
            "[-19 -23 -49]\n"
          ]
        }
      ],
      "source": [
        "v = np.array([1,2,3,5])\n",
        "\n",
        "print(np.dot(A, v))"
      ]
    },
    {
      "cell_type": "markdown",
      "metadata": {},
      "source": [
        "### 7. What is the dimension of the nullspace of A? "
      ]
    },
    {
      "cell_type": "code",
      "execution_count": 15,
      "metadata": {},
      "outputs": [
        {
          "name": "stdout",
          "output_type": "stream",
          "text": [
            "1\n"
          ]
        }
      ],
      "source": [
        "nullity_A = A.shape[1] - np.linalg.matrix_rank(A)\n",
        "print(nullity_A)"
      ]
    },
    {
      "cell_type": "markdown",
      "metadata": {},
      "source": [
        "### 8. Describe the form of all vectors in the nullspace of A. \n",
        "The nullspace of matrix $ A $ consists of all vectors $ x $ such that $ A \\cdot x = 0 $. Given that the nullity of $ A $ is $1$, the nullspace is spanned by a single vector. This means that any vector in the nullspace can be written as a scalar multiple of this vector. \n",
        "\n",
        "To find this vector, we solve the equation $ A \\cdot x = 0 $. For the given matrix $ A $, the nullspace vector can be found using the reduced row echelon form (RREF) of $ A $.\n",
        "\n",
        "The form of all vectors in the nullspace of $ A $ is:\n",
        "$$ x = t \\begin{bmatrix} 1 \\\\ -1 \\\\ 0 \\\\ 1 \\end{bmatrix} $$\n",
        "where $ t $ is any real number."
      ]
    },
    {
      "cell_type": "markdown",
      "metadata": {
        "id": "ilOdG1ChF5U1"
      },
      "source": [
        "# Exercise 3"
      ]
    },
    {
      "cell_type": "markdown",
      "metadata": {
        "id": "ibIfBaL-G9ji"
      },
      "source": [
        "A matrix, M, is defined by the three column vectors\n",
        "(1,3,5), (2,5,9) and (2,3,6)\n",
        "\n",
        "1. Find the transposed matrix. \\\n",
        "2. Is M a symmetric matrix? (give an argument for why/why not)\n",
        "\n",
        "3. Come up with at least 2 different arguments for why M is invertible (and no, it's not an argument that python can find an inverse, but you can use other python functions in your argument).\n",
        "\n",
        "4. Finally, find the actual inverse and make a check that tells you it's indeed the inverse (how can you do that check?)\n"
      ]
    },
    {
      "cell_type": "markdown",
      "metadata": {
        "id": "1U2PfO4mGEwx"
      },
      "source": [
        "# Exercise 4"
      ]
    },
    {
      "cell_type": "markdown",
      "metadata": {
        "id": "HHUcXX9-G_TU"
      },
      "source": [
        "Just as there is a difference between rotation around the center of a figure and rotation around (0,0), the same applies to scaling.\n",
        "\n",
        "\\\n",
        "Per default points are scaled \"relative to\" (0,0) and not the center of the figure.\n",
        "\n",
        "But we can apply the same technique as we did with rotation around the center of the figure in the lectures, to apply scaling around the center of the figure.\n",
        "\n",
        "Given a square defined by the points (2,2), (2,4), (4,4), (4,2)\n",
        "\n",
        "1. Put the points in a matrix and visualize the points.\n",
        "\n",
        "3. Then scale the figure by 2 around it's center. \\\n",
        "\n",
        "4. Visualize the new transformed figure."
      ]
    },
    {
      "cell_type": "markdown",
      "metadata": {
        "id": "VYbDWbd3GRuV"
      },
      "source": [
        "# Exercise 5\n"
      ]
    },
    {
      "cell_type": "markdown",
      "metadata": {
        "id": "UDjEKJHzHA9G"
      },
      "source": [
        "Tetris is an old computer game where you have to rotate and translate figures. Take a look at the following figure. \\\n",
        "\n",
        "\n",
        "![computer graphics - tetris example.png](data:image/png;base64,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)\n",
        "\n",
        "\n",
        "\n",
        "1. Put the coordinates of the points of F1 into a matrix.\n",
        "\n",
        "2. Visualize the F1 points (you do not need to draw the lines between points or the labels)\n",
        "\n",
        "3. Figure out a combination of transformations (rotation, translation, scaling etc) that will transform F1 into F2.\n",
        "(Note: Several different solutions can yield the same result)\n",
        "\n",
        "4. Apply these transformations to the F1 matrix.\n",
        "\n",
        "5. Visualize the resulting F2 figure and check it corresponds to the image."
      ]
    },
    {
      "cell_type": "markdown",
      "metadata": {
        "id": "ULj9blDNU5ml"
      },
      "source": [
        "# Research part"
      ]
    },
    {
      "cell_type": "markdown",
      "metadata": {
        "id": "bRM-uroHVAWe"
      },
      "source": [
        "This is a more free part, but mandatory.\n",
        "\n",
        "You can find a sub-topic or a python function that has something to do with matrices and explore it here.\n",
        "\n",
        "Or you can go more in-deepth some with of the things already presented in the lectures\n",
        "\n",
        "Or it could be another use-case of matrices that you find by doing some reasearch.\n",
        "\n",
        "Explain the use of your topic/function and give some examples in python code.\n",
        "\n",
        "It does not have to be a big section, but there should be something to write about.\n",
        "\n",
        "Put in relevant references to material (the book or other ressources) you use or python documentation pages."
      ]
    }
  ],
  "metadata": {
    "colab": {
      "provenance": [],
      "toc_visible": true
    },
    "kernelspec": {
      "display_name": ".venv",
      "language": "python",
      "name": "python3"
    },
    "language_info": {
      "codemirror_mode": {
        "name": "ipython",
        "version": 3
      },
      "file_extension": ".py",
      "mimetype": "text/x-python",
      "name": "python",
      "nbconvert_exporter": "python",
      "pygments_lexer": "ipython3",
      "version": "3.13.2"
    }
  },
  "nbformat": 4,
  "nbformat_minor": 0
}
