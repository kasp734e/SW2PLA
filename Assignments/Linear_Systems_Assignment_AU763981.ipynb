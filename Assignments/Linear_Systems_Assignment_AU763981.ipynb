{
  "cells": [
    {
      "cell_type": "markdown",
      "metadata": {
        "id": "ahUtVZmVFqmd"
      },
      "source": [
        "# Introduction"
      ]
    },
    {
      "cell_type": "markdown",
      "metadata": {
        "id": "HBtL7MFgF4C5"
      },
      "source": [
        "The linear systems assignment consists of 6 exercises.\n",
        "\n",
        "\n",
        "\n",
        "\n",
        "\n",
        "To pass the assignment you have to correctly solve exercise 1 to 5 and to do a small research task to solve exercise 6 (research part)\n",
        "\n",
        "*   Save a copy of this file and change the XXYYZZ numbers with your AUID\n",
        "*   Upload this file into BS (as a .ipynb notebook file)\n",
        "*   Upload a pdf version of this notebook into BS\n",
        "  * On colab you can do that by clicking: File->Print\n",
        "  * Make sure **all the cell results you ran are visible** in the pdf\n",
        "\n",
        "\n",
        "You can make a copy of this notebook and solve it in that or you can create a new notebook from scratch.\n",
        "\n",
        "You can use a LOT of the material from the lecture notebooks and previous exercises to solve it."
      ]
    },
    {
      "cell_type": "code",
      "execution_count": 9,
      "metadata": {},
      "outputs": [],
      "source": [
        "import numpy as np\n",
        "import sympy as sp\n",
        "import scipy as sci\n",
        "import matplotlib.pyplot as plt"
      ]
    },
    {
      "cell_type": "markdown",
      "metadata": {
        "id": "tm8XpJdhJtDR"
      },
      "source": [
        "# Exercise 1\n",
        "\n",
        "1. Create the 4x4 identity matrix, I4."
      ]
    },
    {
      "cell_type": "code",
      "execution_count": 10,
      "metadata": {},
      "outputs": [
        {
          "name": "stdout",
          "output_type": "stream",
          "text": [
            "[[1. 0. 0. 0.]\n",
            " [0. 1. 0. 0.]\n",
            " [0. 0. 1. 0.]\n",
            " [0. 0. 0. 1.]]\n"
          ]
        }
      ],
      "source": [
        "I4 = np.eye(4)\n",
        "print(I4)"
      ]
    },
    {
      "cell_type": "markdown",
      "metadata": {},
      "source": [
        "2. Compute the QR decomposition of I4 and verify that I4 = QR.\n",
        "  * Remember to print the Q and R matrices"
      ]
    },
    {
      "cell_type": "code",
      "execution_count": 11,
      "metadata": {},
      "outputs": [
        {
          "name": "stdout",
          "output_type": "stream",
          "text": [
            "[[ 1.  0.  0.  0.]\n",
            " [-0.  1.  0.  0.]\n",
            " [-0. -0.  1.  0.]\n",
            " [-0. -0. -0.  1.]]\n",
            "[[1. 0. 0. 0.]\n",
            " [0. 1. 0. 0.]\n",
            " [0. 0. 1. 0.]\n",
            " [0. 0. 0. 1.]]\n",
            "True\n"
          ]
        }
      ],
      "source": [
        "Q,R = np.linalg.qr(I4)\n",
        "\n",
        "print(Q)\n",
        "print(R)\n",
        "\n",
        "print(np.allclose(Q@R,I4))"
      ]
    },
    {
      "cell_type": "markdown",
      "metadata": {},
      "source": [
        "3. The QR decomposition is not always unique, so there could be another decomposition of I4 into Q2 and R2, where at either Q2 and R2 (or both) are different from Q and R.\n",
        "  * In this case, there exists another QR decomposition of I4 (call these new matrices Q2 and R2)\n",
        "  * Find it....it's not so difficult...but you need to think a little or experiment a little...."
      ]
    },
    {
      "cell_type": "code",
      "execution_count": 12,
      "metadata": {},
      "outputs": [],
      "source": [
        "Q2 = np.array([[1,0,0,0],\n",
        "              [0,1,0,0],\n",
        "              [0,0,-1,0],\n",
        "              [0,0,0,1]])\n",
        "R2 = np.array([[1,0,0,0],\n",
        "              [0,1,0,0],\n",
        "              [0,0,-1,0],\n",
        "              [0,0,0,1]])\n",
        "# Q2 == R2"
      ]
    },
    {
      "cell_type": "markdown",
      "metadata": {},
      "source": [
        "4. Then verify that it indeed is a QR decomposition, so that Q2@R2 = A and verify that Q2 is an orthognal matrix."
      ]
    },
    {
      "cell_type": "code",
      "execution_count": 13,
      "metadata": {},
      "outputs": [
        {
          "name": "stdout",
          "output_type": "stream",
          "text": [
            "[[ True  True  True  True]\n",
            " [ True  True  True  True]\n",
            " [ True  True  True  True]\n",
            " [ True  True  True  True]]\n",
            "Is Q2 orthogonal? True\n"
          ]
        }
      ],
      "source": [
        "print(I4 == (Q2@R2))\n",
        "\n",
        "ortho = np.allclose(Q2.T @ Q2, I4)\n",
        "\n",
        "print(f'Is Q2 orthogonal? {ortho}')"
      ]
    },
    {
      "cell_type": "markdown",
      "metadata": {},
      "source": [
        "5. Create the 4x4 zero matrix - call it Z4.\n",
        "Again do QR decomposition of it and verify it is correct.\n",
        "\n",
        "  * In this case there also exists another QR decomposition, where either Q or R (or both) is different than the one python gives.\n",
        "\n",
        "  * Find it...again you may need to think a little...but it is not difficult...\n",
        "Verify that your new Q2 is an orthogonal matrix and Q2@R2 = Z4."
      ]
    },
    {
      "cell_type": "code",
      "execution_count": 14,
      "metadata": {},
      "outputs": [
        {
          "name": "stdout",
          "output_type": "stream",
          "text": [
            "[[0. 0. 0. 0.]\n",
            " [0. 0. 0. 0.]\n",
            " [0. 0. 0. 0.]\n",
            " [0. 0. 0. 0.]]\n"
          ]
        }
      ],
      "source": [
        "Z4 = np.zeros((4, 4))\n",
        "print(Z4)\n",
        "\n",
        "QZ, RZ = np.linalg.qr(Z4)"
      ]
    },
    {
      "cell_type": "markdown",
      "metadata": {
        "id": "4VofO1h1fddV"
      },
      "source": [
        "# Exercise 2\n"
      ]
    },
    {
      "cell_type": "markdown",
      "metadata": {
        "id": "xZ9RV0JHBSTb"
      },
      "source": [
        "1. Deduce the system of equations for the water distribution system described below:\n",
        "\n",
        ">  You are designing a water distribution system for a small town. The flow rates of water through three interconnected pipes, x, y, and z, must satisfy the following conditions:\n",
        ">\n",
        ">\n",
        ">  * The sum of the flow rates through pipe x plus twice the flow rate through pipe y must equal 5 units per second minus twice the flow rate through pipe z.\n",
        ">\n",
        ">\n",
        ">  * The flow rate through pipe z must equal twice the flow rate through pipe x minus the flow rate through pipe y.\n",
        ">\n",
        ">\n",
        ">  * The sum of five times the flow rate through pipe x plus the flow rate througth pipe y minus the flow rate through pipe z must be equal to 3 units per second."
      ]
    },
    {
      "cell_type": "markdown",
      "metadata": {},
      "source": [
        "$$\\begin{align*}x+2y=5-2z\\\\\n",
        "z=2x-y\\\\\n",
        "5x+y-z=3\\end{align*}$$"
      ]
    },
    {
      "cell_type": "markdown",
      "metadata": {},
      "source": [
        "2. Solve the equation system you deduced earlier using the RREF method."
      ]
    },
    {
      "cell_type": "markdown",
      "metadata": {},
      "source": [
        "$$\\begin{align*}\n",
        "x+2y+2z=5\\\\\n",
        "-2x+y+z=0\\\\\n",
        "5x+y-z=3\n",
        "\\end{align*}$$\n",
        "\n",
        "$$\\begin{bmatrix} \n",
        "1&2&2\\\\\n",
        "-2&1&1\\\\\n",
        "5&1&-1\n",
        "\\end{bmatrix}\n",
        "\\cdot\n",
        "\\begin{bmatrix} \n",
        "x\\\\y\\\\z\n",
        "\\end{bmatrix}=\\begin{bmatrix} \n",
        "5\\\\0\\\\3\n",
        "\\end{bmatrix}$$"
      ]
    },
    {
      "cell_type": "code",
      "execution_count": 15,
      "metadata": {},
      "outputs": [
        {
          "name": "stdout",
          "output_type": "stream",
          "text": [
            "x = 1\n",
            "y = 0\n",
            "z = 2\n"
          ]
        }
      ],
      "source": [
        "A = np.array([[1,2,2],[-2,1,1],[5,1,-1]])\n",
        "b = np.array([[5],[0],[3]])\n",
        "\n",
        "sympyA = sp.Matrix(A)\n",
        "sympyb = sp.Matrix(b)\n",
        "\n",
        "augmentedMatrix = sympyA.row_join(sympyb)\n",
        "\n",
        "rrefMatrix, pivot = augmentedMatrix.rref()\n",
        "\n",
        "x = rrefMatrix[0, -1]\n",
        "y = rrefMatrix[1,-1]\n",
        "z = rrefMatrix[2,-1]\n",
        "\n",
        "print(f\"x = {x}\")\n",
        "print(f\"y = {y}\")\n",
        "print(f\"z = {z}\")"
      ]
    },
    {
      "cell_type": "markdown",
      "metadata": {},
      "source": [
        "\n",
        "\n",
        "3. Look at the RREF matrix. How many solutions does this equation system have?\n",
        "(give an argument for your answer)\n"
      ]
    },
    {
      "cell_type": "code",
      "execution_count": 16,
      "metadata": {},
      "outputs": [
        {
          "name": "stdout",
          "output_type": "stream",
          "text": [
            "Matrix([[1, 0, 0, 1], [0, 1, 0, 0], [0, 0, 1, 2]])\n"
          ]
        }
      ],
      "source": [
        "print(rrefMatrix)"
      ]
    },
    {
      "cell_type": "markdown",
      "metadata": {},
      "source": [
        "This system has one unique solution becasue every variable has one unique value"
      ]
    },
    {
      "cell_type": "markdown",
      "metadata": {},
      "source": [
        "4. Calculate the rank of the augmented matrix and compare the rank to the number of unknowns variables in the equation systems."
      ]
    },
    {
      "cell_type": "code",
      "execution_count": 17,
      "metadata": {},
      "outputs": [
        {
          "name": "stdout",
          "output_type": "stream",
          "text": [
            "3\n"
          ]
        }
      ],
      "source": [
        "print(augmentedMatrix.rank())"
      ]
    },
    {
      "cell_type": "markdown",
      "metadata": {},
      "source": [
        "The rank of the augmented matrix is the same as the number of variables in the system."
      ]
    },
    {
      "cell_type": "markdown",
      "metadata": {},
      "source": [
        "5. What can you conclude and also include your knowledge of the RREF matrix that you looked at before."
      ]
    },
    {
      "cell_type": "markdown",
      "metadata": {},
      "source": [
        "If the rank of the matrix is the same as the number of variables in a system, the system will have one unique solution. The RREF matrix is an identity matrix that makes it so only one variable is \"active\" per line which makes it so the solution is easily readable."
      ]
    },
    {
      "cell_type": "markdown",
      "metadata": {},
      "source": [
        "6. Check that your result(s) is indeed a solution (by inserting and calculate that left and right sides are equal to each other in all the equations)"
      ]
    },
    {
      "cell_type": "code",
      "execution_count": 18,
      "metadata": {},
      "outputs": [
        {
          "name": "stdout",
          "output_type": "stream",
          "text": [
            "True\n",
            "True\n",
            "True\n"
          ]
        }
      ],
      "source": [
        "print(x+2*y==5-2*z)\n",
        "print(z==2*x-y)\n",
        "print(5*x+y-z==3)"
      ]
    },
    {
      "cell_type": "markdown",
      "metadata": {
        "id": "Vm8534ikjtKe"
      },
      "source": [
        "# Exercise 3"
      ]
    },
    {
      "cell_type": "markdown",
      "metadata": {
        "id": "Xdd8MCxlj29G"
      },
      "source": [
        "1. Solve the following equation system using the RREF method (Remember to print the solution for x, y, and z).\n",
        "$$\\begin{align*}\n",
        "x + 2y = 5 - 2z\\\\\n",
        "2x -y = z\\\\\n",
        "-3y - 3z = -6x\\end{align*}$$\n",
        "\n",
        "$$\\begin{align*}\n",
        "x+2y+2z=5\\\\\n",
        "2x-y-z=0\\\\\n",
        "6x-3y-3z=0\n",
        "\\end{align*}$$\n",
        "\n",
        "$$\\begin{bmatrix}\n",
        "1&2&2\\\\\n",
        "2&-1&-1\\\\\n",
        "6&-3&-3\n",
        "\\end{bmatrix}\\cdot\\begin{bmatrix}\n",
        "x\\\\y\\\\z\n",
        "\\end{bmatrix}=\\begin{bmatrix}\n",
        "5\\\\0\\\\0\n",
        "\\end{bmatrix}$$"
      ]
    },
    {
      "cell_type": "code",
      "execution_count": 19,
      "metadata": {},
      "outputs": [
        {
          "name": "stdout",
          "output_type": "stream",
          "text": [
            "x = 1\n",
            "y = 2\n",
            "z = 0\n"
          ]
        }
      ],
      "source": [
        "A = np.array([[1,2,2],[2,-1,-1],[6,-3,-3]])\n",
        "b = np.array([[5],[0],[0]])\n",
        "\n",
        "sympyA = sp.Matrix(A)\n",
        "sympyb = sp.Matrix(b)\n",
        "\n",
        "augmentedMatrix = sympyA.row_join(sympyb)\n",
        "\n",
        "rrefMatrix, pivot = augmentedMatrix.rref()\n",
        "\n",
        "x = rrefMatrix[0, -1]\n",
        "y = rrefMatrix[1,-1]\n",
        "z = rrefMatrix[2,-1]\n",
        "\n",
        "print(f\"x = {x}\")\n",
        "print(f\"y = {y}\")\n",
        "print(f\"z = {z}\")\n"
      ]
    },
    {
      "cell_type": "markdown",
      "metadata": {},
      "source": [
        "2. Look at the RREF matrix. How many solutions does this equation system have? (give an argument for your answer)"
      ]
    },
    {
      "cell_type": "code",
      "execution_count": 20,
      "metadata": {},
      "outputs": [
        {
          "name": "stdout",
          "output_type": "stream",
          "text": [
            "Matrix([[1, 0, 0, 1], [0, 1, 1, 2], [0, 0, 0, 0]])\n"
          ]
        }
      ],
      "source": [
        "print(rrefMatrix)"
      ]
    },
    {
      "cell_type": "markdown",
      "metadata": {},
      "source": [
        "Since the last row says $0x+0y+0z=0$ this makes it so the system has infinite solutions"
      ]
    },
    {
      "cell_type": "markdown",
      "metadata": {},
      "source": [
        "3. Calculate the rank of the augmented matrix and compare the rank to the number of unknowns variables. What can you conclude and also include your knowledge of the RREF matrix that you looked at before."
      ]
    },
    {
      "cell_type": "code",
      "execution_count": 21,
      "metadata": {},
      "outputs": [
        {
          "name": "stdout",
          "output_type": "stream",
          "text": [
            "2\n"
          ]
        }
      ],
      "source": [
        "print(augmentedMatrix.rank())"
      ]
    },
    {
      "cell_type": "markdown",
      "metadata": {},
      "source": [
        "The rank of the augmented matrix is less than the number of equations. This means that two of the equations are linearly dependent."
      ]
    },
    {
      "cell_type": "markdown",
      "metadata": {},
      "source": [
        "4. Check that your result(s) is indeed a solution (by inserting and calculate that left and right sides are equal to each other in all the equations)"
      ]
    },
    {
      "cell_type": "code",
      "execution_count": 22,
      "metadata": {},
      "outputs": [
        {
          "name": "stdout",
          "output_type": "stream",
          "text": [
            "True\n",
            "True\n",
            "True\n"
          ]
        }
      ],
      "source": [
        "print(x+2*y==5-2*z)\n",
        "print(2*x-y==z)\n",
        "print(-3*y-3*z==-6*x)"
      ]
    },
    {
      "cell_type": "markdown",
      "metadata": {
        "id": "1xjdHppXGJkV"
      },
      "source": [
        "# Exercise 4"
      ]
    },
    {
      "cell_type": "markdown",
      "metadata": {
        "id": "kq2jAfuiWfMr"
      },
      "source": [
        "1. Create a random 5x5 matrix, A, and use LU decomposition to get P,L,U matrixes."
      ]
    },
    {
      "cell_type": "code",
      "execution_count": 23,
      "metadata": {},
      "outputs": [],
      "source": [
        "A = np.random.rand(5, 5)\n",
        "\n",
        "P, L, U =sci.linalg.lu(A)"
      ]
    },
    {
      "cell_type": "markdown",
      "metadata": {},
      "source": [
        "2. Verify that the product of P. L and U is indeed equal to A (or very close to)."
      ]
    },
    {
      "cell_type": "code",
      "execution_count": 24,
      "metadata": {},
      "outputs": [
        {
          "data": {
            "text/plain": [
              "True"
            ]
          },
          "execution_count": 24,
          "metadata": {},
          "output_type": "execute_result"
        }
      ],
      "source": [
        "np.allclose(P@L@U,A)"
      ]
    },
    {
      "cell_type": "markdown",
      "metadata": {},
      "source": [
        "3. Visualize the L and U matrices (by printing them or otherwise) and verify that they are lower and upper triangular matrices."
      ]
    },
    {
      "cell_type": "code",
      "execution_count": 25,
      "metadata": {},
      "outputs": [
        {
          "name": "stdout",
          "output_type": "stream",
          "text": [
            "[[ 1.          0.          0.          0.          0.        ]\n",
            " [ 0.90346636  1.          0.          0.          0.        ]\n",
            " [ 0.39283831 -0.30903547  1.          0.          0.        ]\n",
            " [ 0.22849328 -0.81932731  0.70157701  1.          0.        ]\n",
            " [ 0.92982146  0.2450555  -0.07204335 -0.26061853  1.        ]]\n",
            "\n",
            "[[ 0.92397859  0.75732953  0.24592952  0.7519971   0.97141825]\n",
            " [ 0.         -0.58844616  0.32883516 -0.33352678 -0.6623531 ]\n",
            " [ 0.          0.          0.83513405 -0.12494014  0.06460567]\n",
            " [ 0.          0.          0.         -0.2747312  -0.40707296]\n",
            " [ 0.          0.          0.          0.         -0.20439985]]\n",
            "They are the correct triangles\n"
          ]
        }
      ],
      "source": [
        "print(L)\n",
        "print()\n",
        "print(U)\n",
        "\n",
        "print(\"They are the correct triangles\")"
      ]
    },
    {
      "cell_type": "markdown",
      "metadata": {},
      "source": [
        "4. Calculate P times P.T and P.T times P."
      ]
    },
    {
      "cell_type": "code",
      "execution_count": 26,
      "metadata": {},
      "outputs": [
        {
          "name": "stdout",
          "output_type": "stream",
          "text": [
            "[[1. 0. 0. 0. 0.]\n",
            " [0. 1. 0. 0. 0.]\n",
            " [0. 0. 1. 0. 0.]\n",
            " [0. 0. 0. 1. 0.]\n",
            " [0. 0. 0. 0. 1.]]\n",
            "[[1. 0. 0. 0. 0.]\n",
            " [0. 1. 0. 0. 0.]\n",
            " [0. 0. 1. 0. 0.]\n",
            " [0. 0. 0. 1. 0.]\n",
            " [0. 0. 0. 0. 1.]]\n",
            "\n",
            "[[0. 0. 1. 0. 0.]\n",
            " [0. 0. 0. 1. 0.]\n",
            " [0. 0. 0. 0. 1.]\n",
            " [1. 0. 0. 0. 0.]\n",
            " [0. 1. 0. 0. 0.]]\n",
            "\n",
            "[[0. 0. 0. 1. 0.]\n",
            " [0. 0. 0. 0. 1.]\n",
            " [1. 0. 0. 0. 0.]\n",
            " [0. 1. 0. 0. 0.]\n",
            " [0. 0. 1. 0. 0.]]\n"
          ]
        }
      ],
      "source": [
        "print(P@P.T)\n",
        "print(P.T@P)\n",
        "print()\n",
        "\n",
        "print(P)\n",
        "print()\n",
        "print(P.T)"
      ]
    },
    {
      "cell_type": "markdown",
      "metadata": {},
      "source": [
        "5. What can you conclude about P and P.T based on these results?"
      ]
    },
    {
      "cell_type": "markdown",
      "metadata": {},
      "source": [
        "They are orthogonal $PP.T=P.TP=I$"
      ]
    },
    {
      "cell_type": "markdown",
      "metadata": {},
      "source": [
        "6. What type of matrix would you call P?"
      ]
    },
    {
      "cell_type": "markdown",
      "metadata": {},
      "source": [
        "Orthogonal"
      ]
    },
    {
      "cell_type": "markdown",
      "metadata": {
        "id": "ilOdG1ChF5U1"
      },
      "source": [
        "# Exercise 5"
      ]
    },
    {
      "cell_type": "markdown",
      "metadata": {
        "id": "aExa5flA2tNt"
      },
      "source": [
        "Here is some real world data from measurements of my cat, when it was small. (and yes, the data is real!)\n",
        "\n",
        "![cat-data.png](data:image/png;base64,iVBORw0KGgoAAAANSUhEUgAAAUIAAAIrCAMAAACtYGChAAAAAXNSR0IArs4c6QAAAARnQU1BAACxjwv8YQUAAAIcUExURf///8zMzOzs7EdHRwAAAIKCgsTExKSkpPb29i8vL9jY2GdnZ+Pj45mZmVdXV0ZGRnV1dfv7+7a2tkhISA0NDbu7u/39/WZmZh8fHzExMZCQkPT09Dg4ONHR0SUlJd/f32VlZRISEoiIiFlZWbS0tI2Njfz8/MDAwDU1NaCgoLy8vIGBgerq6rGxsevr68fHx4eHh5OTk7q6um9vb5eXl/Pz89bW1jc3N6urq0BAQM/Pz4ODg3p6eikpKdTU1PHx8UtLS+fn57m5uZycnHl5eWpqapiYmDo6OuDg4G5ubvj4+K6urt3d3URERF5eXtra2vn5+XFxcVRUVPDw8LCwsJqamv7+/sHBwcnJyRkZGV1dXfLy8unp6U5OTnNzcycnJ1BQUC0tLdfX146OjlVVVe7u7svLy62trWxsbKKioqWlpeTk5E9PT4aGhjs7O2BgYObm5ujo6ICAgOXl5aGhob+/v21tbYmJicbGxvX19WRkZEFBQUpKSn9/f6ampqysrENDQ2FhYXt7exYWFtvb2zMzM3Z2dlFRUUxMTHh4eKOjo3JycqioqNLS0s3NzYWFhZ6enqenp97e3u3t7YqKivf39yIiIsLCwn19fe/v735+fr6+vj8/P4+Pj+Li4rKysq+vr87OztDQ0GNjY4SEhFxcXF9fX9zc3D09PaqqqpKSkr29vdPT02lpacPDw3R0dJaWllJSUtXV1Z2dndXUJ2YAAAAJcEhZcwAADsMAAA7DAcdvqGQAAB5RSURBVHhe7Z37XxRnlocLKKCBWV1CaXpsuTSgeEO0Y2iIonhBSMcLeGkFjMgtGDAYxziJMiZeY2JMdswkO9lNZrLZmczO7Mzs9R/cc877Vne1LqScA13HfM7zA/12N9Knn67LW/a3TjmKoiiKoiiKoiiKojxFifIMWGmF2OeUUFhphSzycMQ8V1WpwvCoQjaqkI0qZKMK2ahCNqqQjSpks6TC0jLXUE4PFlBRaQdF5JkVxspL7cgpd6uq7XCZCafQLcuVYil3nwOF1VX5uiNX6NbE6HGfCvc5UBirefqjXwF+SCGpA2FuBT6QQxXmCaUQjeHmsLoKXOL6UE5LJkpEu0WzSVVBEViL9UMllZViQXZFwUcq8SOmp3ISC1Zk+PWyn9AfgF/8uxpcQHLvDf5wOd6picEozGcQTqEZkC6gIq/QDPzqVxqqKu8OTPolEfR2zSOrllKIakDXaquQfin/3syzwOqCf7844RRS2fDDeDSl22UQ7lSaOyuPqQpeDrYqlagECjSvnxvDTxijkEpftiGgEH6/nEwZhfh44L3hE+X4d/BpWEQKt2D/D8+gEAeBTx+s2YcDz64suarojeYWfVMSmDFKcAxvfVGF8DAO4V/lf99Af8g+beSFWTqeUSEM6DWNQls7vtAPflbLgS22HIqBl7bvDUY+8NZtKVTfIgrtuzLPmjdC2Pdm/5X5/cDTixJOIQzgz/rFRq0QXryC1mMaBqn4mxXm39sKKYS/ZDYPNTGjzfzpiBRCIX9v1mN84zUxqs7yNyoMvLeVUYiVVhRoM2P7agWlriR+seDJvDUjDIoxnzQAY9T5LNtC/EOB97bsCn2gRqoOXiCvEN8C3IGfP/g6y4JfLH6kJIdeH0uCAqBYeAx+wluH8uCRRRTm/1WBQv+92X+17Arxj+bugU58E/jHI5gXAua9AlRGHrsKAzgvNNX5EgMK8Z8H5oXoKPDeVkih+TN4t6rabMixUnwX9CaKsiEEcsWaFRgIfpRWFlZWYd46uvLFBRTS4zWlpMp3lH9vy6tQGuGrgrf+Q58rqFqelefHphAWS1h6QE9+mXsKWGTN5pw2Bmx+bApxHSWW0APyiCUsPws/NoW0nQSWXI3NNn659oE/PoVFRxWyUYVsVCEbVchGFbJRhWxUIZtFFSrhsdIKsc8pobDSCtEVOTyqkI0qZKMK2ahCNqqQjSpkowrZqEI2EhTWvlDneXVr1uK4+sW4+9N1CXq8en2J+SIEoG+TIlBY30Avj98sB4ZOY1My2dRofkWAwtpmt6W1tcXbsNFx2uKbNm/Zmly1DZ9or9ve0YzsWO3uxAciUJjyXsIKdr1cMOxMl3V1dac76VcEKHwlvrsWRO7p2evsW9W7Hx454B2EnxsPHQKpSH1PHy2XESg83D9gR4FhrAbL3N/7agbvCVD4Wpy+saxwK50jR2mFLS3DLyi317XjHcfZdyx9nAbFVzg4dOLk08O9PYfx5jB86IAAhRZUaDEKS9bbr8pPeaezNCh+VSdPDA0+PWx3z+BNhUufsRiF2Q1e7uvzs8O7wdnhkVG6d+7118/RIIKqBvrP7xjzLrRBOYHh4fEJfHJifBJvxCjsrJqatsNEU/wN3OBQgY4zk1s8i19Vh+ddTL1Z5s1mg8NyEyWprlpqnlD0YucuoTYi85a7Dj/1ebNUJi4ffZsGUShs7QFjzpVLsNULDEUqHOiNt9lh7GduM+yhnVT3VbpfQmu1GRZdoSXlvmNHNJSocO/82DXrafTn3rs4V8jutlvvyfw2MjKFE+MkC8FhbltIO2YRCt+rSvuvt23EO4jLIOwAzRbw+o267TQAIlB4nY6Z6hveCg7bTXBM0B75zNg8TbCAK1PJWarUqU/X0+1Af24uUXyFg0NmlZ1xU4GhvHnh3II9UsJDFNzhEZV2ItvhUblE0RWCMNwu7++FaVVgaI5O5hbEHJ3sdH+Bx57NzR1wrNdzk4bvvzxkdyLt8Kn7FF9hog9mMps3jcFUOjCEY+RuScfIuWgvTP9y/zFTc6TbmqsMBFaLr9DJfHDLjQ/R/8kEhs7x26L+pyY8z1VVqjA8qpCNKmSjCtmoQjaqkI0qZKMK2ahCNqqQzaIKlfBYaYXY55RQWGmF6IocHlXIRhWyUYVsVCEbVchGFbJRhWxUIRsJCoNx9W134ibDBwiIq9vOeH7zs+w62x9IcFy9Mx2fTF28ayINAuLqrfT65Wmvle62xY1CwXH1zHnMyNU2U9ZQRFydOOBRXC9bUWW6VEmOq9+7/yHWOtCPaRAJcXVibuEBnsSRmEx+VEUKJcfVbWT9+g2MWUuIqyPZdd4BvK10P26kHL3ouHpOIZ5iJCGujlSbRc9pX7PWnIogOq4+MU55rqvdoFBEXB3IbhimZQ6xCiXH1ROXcS+XfYgnuomIqwNvH71sTgkEJCv04+qd6TGY1KyvA4VS4urtuZVAtMJ8XB3mrPE75272TkuJq/sBYeLJbaHIuDoxOjI0KCSu7mw7StYMVqHkuPp0C82m9/ZUyoirAyXDdq+GWIWS4+qDQ/Nw4Bn7ZGFOSFzdcR4Fst6+QslxdTr4bG2BXcugjLg6bIobzNpAWIWS4+omB377U5wayoir+3tfg69Q4+rLiypkowrZqEI2qpCNKmSjCtmoQjaqkI0qZKMK2ahCNosqVMJjpRVin1NCYaUVoityeFQhG1XIRhWyUYVsVCEbVchGFbJRhWyEKdx4KP+VMib+nexnLclky2dRpVyDiX9seza2g/q+S0v8Bxkd6f4HG2xwMPHvtMXLurrKbKPX4lcVSPzXNnsXU7+sunQFHpaW+A9ytTsfAsLE/8kTJltvAjZRVUWJ/7PDGPt/I74hKy/xH6Rk2Kb8AUz837tPKUibyoioKpP4f9yN4RqKhEhN/BPtw/kXxsT/9joMsWReNYnXaKryE//E5+lDG6Um/g2T909f8MZ2/ArHmPjP7rx7Opb5ZfILOoknmqr8xD+w9njLGNQgNPFPfNnnbtqc2pPEbbZJ/K99fNd1776JJ/REVFUg8V/f4P7jr+FWZuLfcPL2A5CXnfW+2mgS/9nHSTw/L/mYZjWRVBVI/A+kusqwFMkKLaMjR7eZxP8bcTz7LlNuLgAQSVXBxL/j/NMI7EOeA4XZm1XVJvE/aXYv1N08mqoKEv8AGhWY+M9T+yX+3Hjo/j2T+Lefd2nZUp/3ilKQ+AfwHDd5if889jSd6Qcjoybxf3j4LD4+MR7ZUugn/jP/XEcTq0qJDeoDTD+wJ5BV2sT/XjoT2Z6gHElVucT/jPsQPl6ZDeqD4EXcUhe9lxI28Q8754+6Wlu8L2hWE0VVucS/4Ab1hTQOxd1bH2Ryif+1X08lvQtfm6tPRFGV3RoDsc3faIP6lUEVslGFbFQhG1XIRhWyUYVsVCEbVchGFbJRhWwWVaiEx0orxD6nhMJKK0RX5PCoQjaqkI0qZKMK2ahCNqqQjSpkowrZSFF4qq6UbqtfjLs/XWeiVMLi6oDUBvVIZxrbMJuv4rdsTa6iXL2suDoitUE9MLEaewg7zr5VmLRwDngH4aewuDosg2Ib1DuZ2bFvFkjhkaOU4DJtAoXF1UU3qK9wR47UmBXZYBRKi6tLblBfMpuJFSg8Sxk5aXF14Q3qCxQmmjALJzCu7jciFRkUDirMvOWug4VQYFz9eVEY+5lL+z+JcfXnQ+Hoz713ca4gMq7+5LZQUlw9p3DbiHeQNnwi4+pWoci4uq/wylRy1iRapcXVCatQZFzdKqzd45mLj8EsTFpcHbEKRcbVrcJX4j036aj0/ZfFxdURq1BkXN0qzF05sOaIvLg64CvUuPryogrZqEI2qpCNKmSjCtmoQjaqkI0qZKMK2ahCNqqQzaIKlfBYaYXY55RQWGmF6IocHlXIRhWyUYVsVCEbVchGFbJRhWxUIRspCv3E/7Y7ce9Cm0k0CEj8Ux82W9DaNXVe/EX68vhqN33bbb5iFqLQT/x3puOTqYt3TSpEQOKfcgvtHyVTFKxoad28iSIM9Q23MXPxG8zWC1HoJ/4z51GWjdBISPzvO4b9off3Pph2BvqbEqC0CjN7qUAHcxEK84n/e/c/xPDMQD8GaiQk/ivubsGbw/cnnA4P03omuTLZP4APGyQozCf+sdcscP3GyCjUICDxP2leGKmuws8V28w6g0NmrTBIUJhP/OcU4j0Bif/BoRu/3THmTeHuLPNx/NvaRPndxxgfvT2Zdm/NLBmiL3axVuHEOEXirnbDPQmJ/1jNwjdTrbA7+xe4k5mEnXDPASjw3n23pfW1KZMJF6Ywcdl2FIZ7EhL/sRoXI6JXLh1926n94u7FVFcZtsP97j7KS/R5tKGUpRDmEGMwqVlfB/ckJP5jNSaoPOOmnFN0It7ojXkbK8SpzU38ZIUpxLNU43fO3eydFpH4j9WYqQBsoweHzF445T7CG8Qm2aUpJEZHhgZFJP7xYgN4Cwr9CquroK4vaSN4tbsP++nLUjjdcgh3vXt7KoUk/ttNWL3Sq9h4KP05Ds/AUjjp0UkTZ4cFnncyOIRbmtgnC3NCEv9zC3h0cuXS1LSzhbaFiT6o8OwwVpVoEnWM7K8meLp5awsc5UlpUJ8/Rq9t9o7B/AYnB7XNMKkxQ0CYQorS3/4UtzNCEv+f2oJgXvBBnZe8/a+obe3XF/yhGIXheK6qUoXhUYVsVCEbVchGFbJRhWxUIRtVyEYVslGFbBZVqITHSivEPqeEwkorRFfk8KhCNqqQjSpkowrZqEI2qpCNKmSjCtlIUFj7Qp3n1a2hLzozH9xyx3b8ih6X16De6cQ4CCCsQT19sd3a4m3YSN93f7VlR/J3+/AJeQ3qE03GpbQG9a/Ed9eCvD3Yk/IAhv2zD90ZeFxcg3osjBSKa1D/Wtx2Rq2E2qgB8tXu38NaLa1BPS58n4yjQpGNSAFUONBPtRmkNah3En1NJbQtlNegnshu8CqckuG2tgvemLneibQG9c7j8XpKF8psUI/7uqlp+Fy/b5jcsjX5h1Lc4AhrUH88fTprFNrtiqzW4M7cJYwQVri4783O4vVOpDWoz5yHz1iwwoFemrdUuLSTo/NjpDWoP9UANchVuHd+7BouZxUuFYVpQ2kN6hvncXv8xLZQTlD4vaq0eb2J8ZxCaQ3qc/2iYaGU16D+zNg8TbDwzCw8+Y6mMtIa1A9cQyobbl4bkDcvnFuwR0qw9ziNDeqzs3dPyWxQb1dkcQ3qd7q/oCPR5g6cvSa3prYm+xJS4uqFDeqtQjrRW9AxcqzGbmPM4eeutJveFZMTV7dbY4tVqA3qlxdVyEYVslGFbFQhG1XIRhWyUYVsVCEbVchGFbJRhWwWVaiEx0orxD6nhMJKK0RX5PCoQjaqkI0qZKMK2ahCNqqQjSpkowrZSFNY/WLc/amJaNrE/5QXH/ot3Y+iqkBX+sBQWuI/SFt80+YtW5OrKNvcXrc9O+t1d3WVLZ0bWEECXekDQ3GJ/wD7VmFYxTmAEU1K/DfO51owAsWvKtCVPjAUl/gPcOQoheBKyzCQhon/R+4L+EC76fxZ/KoCXekDQ6mJ/wBGISb+baJl6TDkChLoSh8YCk38Bzk7jNVi4j+nMKKIZqArfWAoNPEfINGEcUJK/L9j1uCUCRBHUFW+K31gKDFrXUDmLXcd1EmJfxPRTDRFpTDQlT4wlK4w9jNz+QFK/MNMAk9j/GjJYleQQFf6wFC4wtGfe+/iXMEk/mE+e8tNv/+To9FkrQNd6YMN6gUm/gNsG/EOUijYJP4t9Q1L7ftWDr9XdHVVQYN6eYn/AFemkrMmFGwS/yVjlBc+aNacolcV6EofbFAveV5YuwcT/4RJ/A/0n4e1+t/+uCeiuHqgK31gKC7xH+CVeM9NCv+//7Kf+Ifd4OZNeJQHFL+qgq70uaG0xH+Q3ClGNUf8xP+3+V4NUVQV6EofGGrif3lRhWxUIRtVyEYVslGFbFQhG1XIRhWyUYVsVCGbRRUq4bHSCrHPKaGw0grRFTk8qpCNKmSjCtmoQjaqkI0qZKMK2ahCNtIUbrsT9y60ma/jo42rn6oz1w13sutME8j6Bvp+FnMhV7tpuGTGIiqFnen4ZOoitlgHIo2rd6ZNhgYj9EZhynsJUwK7Xkabt3H4GwyGC1OYOW8ubE8dHyONq0+spsUNlsGKKtcoPGyiXUjKtJg1yFJ47/6HGJ4Z6Mc0SIRx9czs2DcLpDAxmfzItAYfHDIXGkAm8zalKcQm9cD1G9jSNcK4eoU7csSE4SrdjxspPO+cPEGBRyRoU6xCLD/CuHrJbMbmCdvXrDXnH2DIbMeY2dWdPHF7Mu3emqG4mTCFE+OU57raDeVHHFf3I5n+KRxOh+ddTL1Zhum9e/fdltbXpkygWZjCxGU6Veshbsojjqs/pbC1B+cJVy717HW+u2+iht4WfF6WQphKjMGkZn0dlB9xXP0phZaU+44dwdTmJq4zwhTiKZbxO+du9k5HHVdfTKHdLCO28bo0hcToyNBg1HH1pxVepxA4XW7gS9oIXu3u+xJuZCmcbjmE14bZ21MZeVz9SYX+5RJm3JQzaXZyZ4cFnjQxODTfCNV/sjAXeVz9qaVwhnbA+3tfPwfuzE5O6DFyWVdrCxzl5RrURxVXf0oh7ICxFDqXDC87Z5Pr4hRSDvz2p7idiTiu/vS2EK9yGB8yPQa+vpBLrotTuCTPVVWqMDyqkI0qZKMK2ahCNqqQjSpkowrZqEI2qpCNKmSzqEIlPFZaIfY5JRRWWiG6IodHFbJRhWxUIRtVyEYVslGFbFQhG1XIRopCP1+PX9b63xtHmfifnjKRntjmb9xky2cUC8BS7mDf91x3tqXyZsVW6Ofra5u9r7bsSP5uH96JMPFf22zythRh6CpL/gnGbfGW1l9WYbCiA+P+zTtWuzvxd2QozOXrD+D5EtmH7gyMI0z8Z/7dMwpbvYewAO47dvRt59zrpkH9BpNhcJx6io/KUJjP18dqLmNVV7t/vzbKxH/jMe97o/A3myh5VOlWOFs8jKhsPAQ2iX3H0sdpIEFhPl8/0E9xM0Nkif9YTfxPvzYKLahw0rQRrvRPOTnlnZaTqcnn60uG29oueGPmeieRJf5jOxv9cw8MmVerqmHxoyuInDFthGG9fv0cDUQoBKzCCvf7hsktW5N/gDvRJv4LFP55+Lz/IeeemMn9gjSFeAIZ7IYPwkodaeI/qPAvaeoiXKAwcdnfJopTSH2O6YoY0Sb+AwpL0jinekJhCV0Mg5CmkFThvYgT/zmF2Wtj89gBPL8tpOyojVsjshTa3Qbeizjx7yvMzsR7zSmLk2bPZvbI12/Ubcd7iCyFJ0/g+YswI6yJRZz4twqzj5NTc/RA4bxwoD93TqMwhdnTeIpbdvbuqagT/1ZhfY9NyuMsBo9O6nvo6KTDy09gZSmEY9Lk1tTWZF8i6sS/UTj4ofs9HQ83w4FIW3zKHiPD4ZLZIhLCFDqxXWk3vSsWeeLfKCwts/8lg1fnyHZcsP9TYw5XfIQoDMdzVZUqDI8qZKMK2ahCNqqQjSpkowrZqEI2qpCNKmSzqEIlPFZaIfY5JRRWWiG6IodHFbJRhWxUIRtVyEYVslGFbFQhG1XIRoLC2hfqPK9uDXVYbByKexe+NlfclxBXRzqraBxIrktrUE+t7FpbvA0bMba+aXPqr/aa+wLi6kiiicbB5Lq0BvWvxHfXQtF7evY6mVdRVuZ8+nN4XEJcHcg+dGkcSK6La1D/WpySAZgfODdyBxuRmqyAhLg60Jn+ZBzHgeS61Ab1NggEZDc0UKpLRFw90ddUYraFBlQotEF9doMfekw8jH+MWVcZcfXH4/XVAYWYXJfaoL6zymzvNh5y3SEMGcqIqx9Pn84GFWJyXWiD+rlLdI0Txxls27I1OQX7EBFx9cx5+GADCim5LrNB/UAvRv0t2Re8rzbKiKufaoAPNq/QJNd9RDWo3zs/do2mgoaTJ4TE1Rvnv4AZgq/QT677SGpQ/15VuuD1xMTVc2fN4r18cl1eg/ozuQ/3u3mavGyvGxkVEVcfuIZUNty8NhBMrotrUD+3kNvATD/ohWMmOB6oFBJXJ8yKHEiui2tQv9P9BSXCmzswEg7HyBe9l4TE1Q2kMJhcl9agPlZjNzdUdPWLcffWBxkhcXUDKSxIrmuD+uVFFbJRhWxUIRtVyEYVslGFbFQhG1XIRhWyUYVsVCGbRRUq4bHSCrHPKaGw0grRFTk8qpCNKmSjCtmoQjaqkI0qZKMK2ahCNhIU4rey9griTmLdmHvLhP9FJP7rG+i747JSp5wGADwhLfGfnfVaWru6KRWS6BubFJX4T3kvYYJh18tOK0UZytNeq7zE/+dpTKg0zmMn3MrhP0P9u+Uk/g8Hg+nAAQ/TmdIS//+xHrMf1MEwcZkakdY3HISfEhL/hcF0jFA9wAaGMhP/1Ih5oJ9yo6VlGM+UkPg/eSLfsxXIrvMOwI3IxH927j+T3+Li9w7eu34DS5SQ+B/oP79jzLvQZgJITnUV5VolJv5hD3f3EeyGbeG0UotI/Hd43sXUm2V2/5bdMHwGbyUm/retaW3xvqgtUCgi8d/ag/KuXOqhGO7bR+laIjIT/7ATPAQFBRWKaVAPpFzawLQXPAibHUGJf6RkuDy/LRwZldKgnjDb4sEhs2X2kZT4J6phSRvop6UN98hCGtRfpwOl+gb8CK0yQFri/7/WY7bfqfAOB+eFIhL//nI3Q53AS4ZhB4eIS/yfHcbzkU1+3hyd7IGjExmJ/xna6+7vpSvsPPJbqotL/Afz84m+uDlGFpL4p1PhN28ao7nMJJ3jC0hL/ENFL9Tl8vOj75r/qZGS+MdLG/r/i2Tn+YAm/pcXVchGFbJRhWxUIRtVyEYVslGFbFQhG1XIRhWyWVShEh4rrRD7nBIKK60QXZHDowrZqEI2qpCNKmSjCtmoQjaqkI0qZCNAYa7PIoVBMKMOZNfZ8EVjUzLZZL6ELGZVNq4ezKjnk+uhqiqmwg7Kge9Y7e7Ee+112/GmLW4UdqbLumyUvZhV+XH1YEY9n1wPVVUxFRrqKUlIGXVYBiuqXFIYq8GekPt7McpexKqCDeoBk1HPJ9dDVVV0hfuOpY/jLWbUncRk8iMTyd3bQ8mfwyYiWayqChrU+xn1QMA6VFVFV3jKO20CKusxnOR+3FhGCttdSrNUuMUMxxU0qMfNMmXUA8n1UFUVW+G51yk7ZTLqTvuataVG4eHxCXx0YpxiacVSGGxQn8uoB5LroaoqtsIZWzFl1BGr0CaBML4JFLGqvEI/ox5IroeqqsgKE5fxKiIAZdQROQr9jHoguS5RYckwpQlh4oAZdUSOwicy6phcl6jQJm8dm1EHntwWFvPsJySn8MmMOibXQ1VVXIXXb5j5NOz1/E/cKmyn6+/AG4oqrh7IqOeT66GqKq7CgX678JmMOmIVRjMvBHIK/Yx6MLkucF7Y4VFJMCHMzV6tQnMcMLdQ5KOTgMJcRj2QXA9VVXEVttsybUYdsQrhaLQ7imPkvMJcRj2YXA9TVXEVmiuO4bkw9hPPK3SO347kf2pyCu3eFwgm10NUVVyFYXmuqlKF4VGFbFQhG1XIRhWyUYVsVCEbVchGFbJRhWxUIZtFFSrhsdIKsc8pobDSCtEVOTyqkI0qZKMK2ahCNqqQjSpkowrZqEI2kSo8VYfpeWJ/L6WkHGGJf2ftmjov/iK9Pjb09DuwSUn8d6bpBASkdrc5ZcIRlvin5vmbN+Hrw0NTMKQ+gFIS/xOrzTkcyJ+HrUJhif+B/qYEGKsaGnTeiOMpCZ3p85lwVa18sZnZsW8WfIVXLv31j0ahsMR/h4c31OH4rYbv8JHJqmopya4Kd+QIVobUNvf+pcwoFJb4r67CoBQ2zyeNwBk3Fa6qlS+2ZDbjV+VUNBwotQqFJf4zH8e/rU2U331slkTgDDwhJ/HvV7XtwZ5aq1Bc4j8z6bpuz4Gsk71pSjkMT8jJWluF2XXzjaCMypGW+K/94u7FVFcZhgq30Flk+3slKnyj4RQqo3KkJf5PkbfRG/AhUxvhzZv+u0GewumpiyDLKJSW+B8cMqcuptxHsE6/n3Zvrfmf8UeCEv9GYQWd5YuUi0v8+1vr6iq/LrpmkZzEvylw+zXk23TTtU5xif+Nh+gqVLAbfuS8dh9r2/gVHD3JSfz7nzFiVmRxiX+zD0n0wbawZHgdTBHf6zmdDVdVNArlJf5rm71jthV9bXNy65bJMTrxXEzi/ymFAhP/mQ9yzfMz/5t207tCV1XEYp+B56oqVRgeVchGFbJRhWxUIRtVyEYVslGFbFQhG1XIZlGFSnistELsc0oorDRFURRFURRFURRFURRFURQfx/k/rLduMFuGBD8AAAAASUVORK5CYII=)\n",
        "\n",
        "\n",
        "\n",
        "\n"
      ]
    },
    {
      "cell_type": "markdown",
      "metadata": {
        "id": "_KO4ZR3X33hE"
      },
      "source": [
        "1. Your job is first to visualize the data - maybe just as a scatterplot showing x and y values."
      ]
    },
    {
      "cell_type": "code",
      "execution_count": 27,
      "metadata": {},
      "outputs": [
        {
          "data": {
            "image/png": "[encoded data removed]",
            "text/plain": [
              "<Figure size 640x480 with 1 Axes>"
            ]
          },
          "metadata": {},
          "output_type": "display_data"
        }
      ],
      "source": [
        "grams = np.array([550,710,730,710,685,740,880,1155,1207,1425,1575,1750,1890])\n",
        "\n",
        "\n",
        "plt.scatter(range(1, len(grams) + 1), grams, color='blue', label='Weight')\n",
        "plt.xlabel('Week')\n",
        "plt.ylabel('Grams')\n",
        "\n",
        "plt.show()"
      ]
    },
    {
      "cell_type": "markdown",
      "metadata": {},
      "source": [
        "2. Then you need to put the data into numpy arrays\n",
        "(hint: use numbers for the dates such as 1, 2, 3 etc, this\n",
        "represents week 1, week 2 etc).\n"
      ]
    },
    {
      "cell_type": "code",
      "execution_count": 28,
      "metadata": {},
      "outputs": [
        {
          "name": "stdout",
          "output_type": "stream",
          "text": [
            "[[   1  550]\n",
            " [   2  710]\n",
            " [   3  730]\n",
            " [   4  710]\n",
            " [   5  685]\n",
            " [   6  740]\n",
            " [   7  880]\n",
            " [   8 1155]\n",
            " [   9 1207]\n",
            " [  10 1425]\n",
            " [  11 1575]\n",
            " [  12 1750]\n",
            " [  13 1890]]\n"
          ]
        }
      ],
      "source": [
        "weeks = np.array([1,2,3,4,5,6,7,8,9,10,11,12,13])\n",
        "\n",
        "print(np.column_stack((weeks, grams)))"
      ]
    },
    {
      "cell_type": "markdown",
      "metadata": {},
      "source": [
        "\n",
        "3. Then train a linear model using least squares (and not forcing the model to go through (0,0) as obviously the cat is not 0 grams when it is born in week 0...so you will calculate the week 0 value using the model)\n"
      ]
    },
    {
      "cell_type": "code",
      "execution_count": 29,
      "metadata": {},
      "outputs": [
        {
          "name": "stdout",
          "output_type": "stream",
          "text": [
            "Slope: 111.12087912087912\n",
            "Intercept: 299.61538461538476\n"
          ]
        }
      ],
      "source": [
        "slope, intercept = np.polyfit(weeks, grams, 1)\n",
        "\n",
        "print(f\"Slope: {slope}\")\n",
        "print(f\"Intercept: {intercept}\")"
      ]
    },
    {
      "cell_type": "markdown",
      "metadata": {},
      "source": [
        "\n",
        "4. Print the model in the form of y = slope*x + intercept\n",
        "(so you need to find the slope and intercept values - from the model)\n"
      ]
    },
    {
      "cell_type": "code",
      "execution_count": 30,
      "metadata": {},
      "outputs": [
        {
          "name": "stdout",
          "output_type": "stream",
          "text": [
            "y=111.12087912087912*x+299.61538461538476\n"
          ]
        }
      ],
      "source": [
        "print(f'y={slope}*x+{intercept}')"
      ]
    },
    {
      "cell_type": "markdown",
      "metadata": {},
      "source": [
        "\n",
        "5. Plot the best line as given by least squares in the same plot as the data points.\n"
      ]
    },
    {
      "cell_type": "code",
      "execution_count": 31,
      "metadata": {},
      "outputs": [
        {
          "data": {
            "image/png": "[encoded data removed]",
            "text/plain": [
              "<Figure size 640x480 with 1 Axes>"
            ]
          },
          "metadata": {},
          "output_type": "display_data"
        }
      ],
      "source": [
        "xVals = np.linspace(1, 13, 100)\n",
        "\n",
        "yVals = slope * xVals + intercept\n",
        "\n",
        "plt.scatter(weeks, grams, color='blue', label='Data Points')\n",
        "\n",
        "plt.plot(xVals, yVals, color='red', label=f'y={slope:.2f}*x+{intercept:.2f}')\n",
        "\n",
        "plt.xlabel('Week')\n",
        "plt.ylabel('Grams')\n",
        "plt.legend()\n",
        "\n",
        "plt.show()"
      ]
    },
    {
      "cell_type": "markdown",
      "metadata": {},
      "source": [
        "\n",
        "6. Also calculate the SSE value.\n"
      ]
    },
    {
      "cell_type": "code",
      "execution_count": 32,
      "metadata": {},
      "outputs": [
        {
          "name": "stdout",
          "output_type": "stream",
          "text": [
            "392758.6185243323\n"
          ]
        }
      ],
      "source": [
        "SSE = 0\n",
        "\n",
        "for i in range(0,13):\n",
        "    SSE += (grams[i]-(slope * i + intercept))**2\n",
        "\n",
        "print(SSE)"
      ]
    },
    {
      "cell_type": "markdown",
      "metadata": {},
      "source": [
        "\n",
        "7. Calculate the R^2 value to see how close to linear the data is (0 lowest, 1 perfect line)\n"
      ]
    },
    {
      "cell_type": "code",
      "execution_count": 33,
      "metadata": {},
      "outputs": [
        {
          "name": "stdout",
          "output_type": "stream",
          "text": [
            "R^2 = 0.8416005428533818\n"
          ]
        }
      ],
      "source": [
        "SST = 0\n",
        "for gram in grams:\n",
        "    SST += (gram - grams.mean()) ** 2\n",
        "\n",
        "RSquared = 1 - (SSE / SST)\n",
        "\n",
        "print(f\"R^2 = {RSquared}\")"
      ]
    },
    {
      "cell_type": "markdown",
      "metadata": {},
      "source": [
        "\n",
        "8. Then use your model to predict the weight of the cat on the date of 28/10 ?"
      ]
    },
    {
      "cell_type": "code",
      "execution_count": 34,
      "metadata": {},
      "outputs": [
        {
          "name": "stdout",
          "output_type": "stream",
          "text": [
            "1966.4285714285716\n"
          ]
        }
      ],
      "source": [
        "print(slope*15+intercept)"
      ]
    },
    {
      "cell_type": "markdown",
      "metadata": {
        "id": "ULj9blDNU5ml"
      },
      "source": [
        "# Exercise 6 (Research part)"
      ]
    },
    {
      "cell_type": "markdown",
      "metadata": {
        "id": "bRM-uroHVAWe"
      },
      "source": [
        "This is a more free part, but mandatory.\n",
        "\n",
        "You can find a sub-topic or a python function that has something to do with linear systems and explore it here.\n",
        "\n",
        "Or you can go more in-deepth some with of the things already presented in the lectures\n",
        "\n",
        "Or it could be to find another interesting real-world data and analyse it using GLMS/Least Squares and visualize the results.\n",
        "(this may require you to learn a little about python pandas - but that is extremely usefull for many things. In fact you used python pandas in one of the exercises - the co2, although the code was given by me)\n",
        "\n",
        "Explain the use of your topic/function and give some examples in python code.\n",
        "\n",
        "It does not have to be a big section, but there should be something to write about.\n",
        "\n",
        "IT SHOULD BE SOMETHING THAT WE DID NOT LOOK AT IN CLASS OR SUBSTANSTIAL EXTENDING SOMETHING WE LOOKED AT AND NOT JUST REPEATING SOMETHING FROM AN EXERCISE. THIS WILL RESULT IN REHANDIN REGARDLESS OF THE REST OF THE HANDIN\n",
        "\n",
        "Put in relevant references to material (the book or other online ressources) you use or python documentation pages."
      ]
    },
    {
      "cell_type": "markdown",
      "metadata": {},
      "source": [
        "# Reviewers\n",
        "* Maria Wilcken Birkop: AU761816\n",
        "* Mette Aiwen Thomsen: AU776000 \n",
        "* Nikolaj Ingemann Lindhart: AU763234"
      ]
    }
  ],
  "metadata": {
    "colab": {
      "provenance": [],
      "toc_visible": true
    },
    "kernelspec": {
      "display_name": ".venv",
      "language": "python",
      "name": "python3"
    },
    "language_info": {
      "codemirror_mode": {
        "name": "ipython",
        "version": 3
      },
      "file_extension": ".py",
      "mimetype": "text/x-python",
      "name": "python",
      "nbconvert_exporter": "python",
      "pygments_lexer": "ipython3",
      "version": "3.13.2"
    }
  },
  "nbformat": 4,
  "nbformat_minor": 0
}
