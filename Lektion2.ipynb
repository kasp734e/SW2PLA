{
  "cells": [
    {
      "cell_type": "markdown",
      "metadata": {
        "id": "Kk1cZMAPfgMC"
      },
      "source": [
        "# Exercises for Vectors 2"
      ]
    },
    {
      "cell_type": "markdown",
      "metadata": {
        "id": "CYzMAIBFX0YO"
      },
      "source": [
        "# Exercise 1\n",
        "\n",
        "Create a column vector v of dimension 2 of your choice. Then create a vector w containing the values of v multiplied by 5. You can represent the vector set containing v and w as V = [v,w].\n",
        "\n"
      ]
    },
    {
      "cell_type": "code",
      "execution_count": 3,
      "metadata": {
        "id": "4jhWDMZN9kgw"
      },
      "outputs": [
        {
          "name": "stdout",
          "output_type": "stream",
          "text": [
            "[[ 5]\n",
            " [10]]\n"
          ]
        }
      ],
      "source": [
        "import numpy as np\n",
        "\n",
        "v = np.array([[1],[2]])\n",
        "w = v*5\n",
        "print(w)\n",
        "V = [v,w]"
      ]
    },
    {
      "cell_type": "markdown",
      "metadata": {
        "id": "EjdTIHKLfrQF"
      },
      "source": [
        "# Exercise 2\n",
        "\n",
        "The following code should return:\n",
        "\n",
        "\n",
        "```\n",
        "array([[ True],\n",
        "       [ True]]).\n",
        "```\n",
        "\n",
        "    "
      ]
    },
    {
      "cell_type": "code",
      "execution_count": 4,
      "metadata": {
        "id": "h-6Pc-Ada0lu"
      },
      "outputs": [
        {
          "data": {
            "text/plain": [
              "array([[ True],\n",
              "       [ True]])"
            ]
          },
          "execution_count": 4,
          "metadata": {},
          "output_type": "execute_result"
        }
      ],
      "source": [
        "w == 5 * v"
      ]
    },
    {
      "cell_type": "markdown",
      "metadata": {
        "id": "W78-Q8eFfvHm"
      },
      "source": [
        "# Exercise 3\n",
        "\n",
        "Is the set V linearly dependent or independent? Justify your answer with a short sentence (max 20 words).\n",
        "\n",
        "Since $$v=\\begin{bmatrix} 1 \\\\ 2 \\end{bmatrix}$$ and $$w=\\begin{bmatrix} 5 \\\\ 10 \\end{bmatrix}$$ then $$w=5\\cdot v$$\n",
        "\n",
        "Therefore the $V$ set is linearly dependent.\n"
      ]
    },
    {
      "cell_type": "markdown",
      "metadata": {
        "id": "MiwTLsRDgPor"
      },
      "source": [
        "# Exercise 4\n",
        "\n",
        "Please provide a set W with two column vectors of dimension 3 that are linearly independent."
      ]
    },
    {
      "cell_type": "code",
      "execution_count": 8,
      "metadata": {
        "id": "igl5urc1CJvZ"
      },
      "outputs": [],
      "source": [
        "x = np.array([[1],[4],[2]])\n",
        "y = np.array([[6],[9],[2]])\n",
        "W = [x,y]"
      ]
    },
    {
      "cell_type": "markdown",
      "metadata": {
        "id": "192iDjFpgVTZ"
      },
      "source": [
        "# Exercise 5\n",
        "In the following we have defined \"lindcheck\", a function that can be used to check if a vector set is linearly independent.\n",
        "\n",
        "As it is, you should obtain the result True in case your vectors x,and y are correctly linearly independent.\n",
        "\n",
        "You should also obtain the False if you try to pass the space V.\n",
        "\n",
        "Obs. \"lindcheck\" works by contructing a matrix and computing its rank. We will talk about this in the Matrices part 2 lecture, so you are not expected to understand how it works now."
      ]
    },
    {
      "cell_type": "code",
      "execution_count": 9,
      "metadata": {
        "id": "vhRrirjDCx9n"
      },
      "outputs": [
        {
          "name": "stdout",
          "output_type": "stream",
          "text": [
            "True\n"
          ]
        }
      ],
      "source": [
        "def lindcheck(vectors):\n",
        "    matrix = np.column_stack(vectors)\n",
        "    rank = np.linalg.matrix_rank(matrix)\n",
        "    return rank == len(vectors)\n",
        "\n",
        "print(lindcheck(W))"
      ]
    },
    {
      "cell_type": "markdown",
      "metadata": {
        "id": "63jdTPZGgcLp"
      },
      "source": [
        "# Exercise 6\n",
        "\n",
        "In the following code, change the values of the lambdas (l1 and l2) such that  the vector (1,1,2) is the result of the linear combination of v1 and v2."
      ]
    },
    {
      "cell_type": "code",
      "execution_count": 6,
      "metadata": {
        "id": "yFjW-V_WarZw"
      },
      "outputs": [
        {
          "name": "stdout",
          "output_type": "stream",
          "text": [
            "[[1]\n",
            " [1]\n",
            " [2]]\n"
          ]
        }
      ],
      "source": [
        "v1 = np.array([[1], [1], [0]])\n",
        "v2 = np.array([[1], [1], [1]])\n",
        "l1 = -1\n",
        "l2 = 2\n",
        "print(l1*v1+l2*v2)"
      ]
    },
    {
      "cell_type": "markdown",
      "metadata": {
        "id": "4yb4ymungiCI"
      },
      "source": [
        "# Exercise 7\n",
        "\n",
        "What is the subspace spanned by the vector v2?\n",
        "\n",
        "$$\\lambda\\begin{bmatrix}1\\\\1\\\\1\\end{bmatrix}, \\lambda \\in \\mathbb{R}$$"
      ]
    },
    {
      "cell_type": "markdown",
      "metadata": {
        "id": "kik0w2WQ_Yl4"
      },
      "source": [
        "# Exercise 8\n",
        "\n",
        "Explain in your words what is the formal definition of a basis.\n",
        "\n",
        "The set of all basic vectors that are needed to span the whole space. For example for a 2d plot $$S_2=\\begin{Bmatrix}\\begin{bmatrix}1\\\\0\\end{bmatrix},\\begin{bmatrix}0\\\\1\\end{bmatrix}\\end{Bmatrix}$$\n",
        "\n",
        "Every point in the 2d space can be reached by scaling and combining these two vectors "
      ]
    },
    {
      "cell_type": "markdown",
      "metadata": {
        "id": "abOguGBG8bsa"
      },
      "source": [
        "# Exercise 9\n",
        "\n",
        "What is the relation between the dimensionality of a vector and the number of vectors in a basis for the space containing all vectors of such dimension?\n",
        "\n",
        "Hint:\n",
        "* Start with some known cases. For instance, given vector v defined in Exercise 1. What is its dimensionality? What is a basis for the space containing v?\n",
        "* After establishing the realtion for vectors of dimension 2, 3,... generalize to the case of vectors of dimension n."
      ]
    },
    {
      "cell_type": "markdown",
      "metadata": {
        "id": "1m1E3doCXB04"
      },
      "source": [
        "# Exercise 10\n",
        "\n",
        "Define a function to plot the standard basis vectors of $\\mathbb{R}^2$."
      ]
    },
    {
      "cell_type": "markdown",
      "metadata": {
        "id": "80x4IGVoBVq4"
      },
      "source": [
        "# Exercise 11\n",
        "\n",
        "Add to your plot the vector v you defined at the begining of the exercise sheet."
      ]
    },
    {
      "cell_type": "markdown",
      "metadata": {
        "id": "fscK0Obfco0q"
      },
      "source": [
        "# Exercise 12\n",
        "\n",
        "Can you define a basis for ℝ⁴? Is it the standard basis? If yes, provide another basis."
      ]
    }
  ],
  "metadata": {
    "colab": {
      "provenance": []
    },
    "kernelspec": {
      "display_name": "base",
      "language": "python",
      "name": "python3"
    },
    "language_info": {
      "codemirror_mode": {
        "name": "ipython",
        "version": 3
      },
      "file_extension": ".py",
      "mimetype": "text/x-python",
      "name": "python",
      "nbconvert_exporter": "python",
      "pygments_lexer": "ipython3",
      "version": "3.11.4"
    }
  },
  "nbformat": 4,
  "nbformat_minor": 0
}
