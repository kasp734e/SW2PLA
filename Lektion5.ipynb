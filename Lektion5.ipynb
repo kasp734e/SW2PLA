{
  "cells": [
    {
      "cell_type": "markdown",
      "metadata": {
        "id": "Kk1cZMAPfgMC"
      },
      "source": [
        "# Lesson 5 - exercises for matrices part 2"
      ]
    },
    {
      "cell_type": "code",
      "execution_count": 1,
      "metadata": {},
      "outputs": [],
      "source": [
        "import numpy as np"
      ]
    },
    {
      "cell_type": "markdown",
      "metadata": {
        "id": "EjdTIHKLfrQF"
      },
      "source": [
        "# Exercise 1\n",
        "\n"
      ]
    },
    {
      "cell_type": "markdown",
      "metadata": {
        "id": "-uYolH9BJK_A"
      },
      "source": [
        "Construct the 3x3 identity matrix and the 3x3 zero matrix.\n",
        "Before doing any calculations with python, try to think about what the\n",
        "norm and the trace of both matrices would be? (write it down!)\n",
        "\n",
        "Then use python to calcuate both the norm and the trace of these two matrices.\n",
        "Does the result corresponds with your expectations.\n",
        "\n",
        "Consider what the rank of these two matrices should be?\n",
        "Calculate it using python for both of them and see if it corresponds to your expectations."
      ]
    },
    {
      "cell_type": "code",
      "execution_count": null,
      "metadata": {},
      "outputs": [
        {
          "name": "stdout",
          "output_type": "stream",
          "text": [
            "[[1. 0. 0.]\n",
            " [0. 1. 0.]\n",
            " [0. 0. 1.]]\n",
            "[[0 0 0]\n",
            " [0 0 0]\n",
            " [0 0 0]]\n",
            "3.0\n",
            "0\n",
            "\n",
            "1.7320508075688772\n",
            "0.0\n"
          ]
        }
      ],
      "source": [
        "idMatrix = np.eye(3)\n",
        "zeroMatrix = np.array([[0,0,0],[0,0,0],[0,0,0]])\n",
        "\n",
        "print(idMatrix)\n",
        "print(zeroMatrix)\n",
        "\n",
        "# I think the traces are 3 and 0\n",
        "# I think the norms are \\sqrt(3) and 0\n",
        "\n",
        "print(np.trace(idMatrix))\n",
        "print(np.trace(zeroMatrix))\n",
        "print()\n",
        "print(np.linalg.norm(idMatrix))\n",
        "print(np.linalg.norm(zeroMatrix))\n"
      ]
    },
    {
      "cell_type": "markdown",
      "metadata": {
        "id": "W78-Q8eFfvHm"
      },
      "source": [
        "# Exercise 2"
      ]
    },
    {
      "cell_type": "markdown",
      "metadata": {
        "id": "s2C-QITVJe_C"
      },
      "source": [
        "Construct a 2x2 and a 3x3 and a 4x4 diagonal matrix (i.e. only values on the diagonal - you choose which, but is should not be the identity matrix), the rest is zero in the matrix\n",
        "Compute the rank of these 3 matrices.\n",
        "Consider the results, and come up with an argument to why you get these results"
      ]
    },
    {
      "cell_type": "markdown",
      "metadata": {
        "id": "MiwTLsRDgPor"
      },
      "source": [
        "# Exercise 3"
      ]
    },
    {
      "cell_type": "markdown",
      "metadata": {
        "id": "6TpqdckwKWOF"
      },
      "source": [
        "1. Calculate the determinants of these 3 matrices from exercise 2.\n",
        "\n",
        "  Notice, that the results may look at little \"weird\" due to floating point calculations giving rounding errors, so use round(x) on the result\n",
        "\n",
        "  Look at the determinant values for each matrix and see if you can come up with a formula for how to calculate the determinat of a diagonal matrix (it's much easier than the general determinant formula!)\n",
        "\n",
        "2. Find the determinant of M defined below. Give a reason for your result.\n"
      ]
    },
    {
      "cell_type": "code",
      "execution_count": null,
      "metadata": {
        "id": "9vCdjeXhcjAj"
      },
      "outputs": [],
      "source": [
        " M = np.array([[1, 0, 0, 0],\n",
        "              [0, 2, 0, 0],\n",
        "              [0, 0, 3, 0]])"
      ]
    },
    {
      "cell_type": "markdown",
      "metadata": {
        "id": "192iDjFpgVTZ"
      },
      "source": [
        "# Exercise 4"
      ]
    },
    {
      "cell_type": "markdown",
      "metadata": {
        "id": "oNngUzwDgZ4W"
      },
      "source": [
        "Calculate the norm of the 3 matrices from exercise 3 using python\n",
        "\n",
        "Try to come up with a general formula for calculating the (Frobenius) norm of a diagonal matrix based on your results"
      ]
    },
    {
      "cell_type": "markdown",
      "metadata": {
        "id": "63jdTPZGgcLp"
      },
      "source": [
        "# Exercise 5\n",
        "\n",
        "Solve exercise 6-5 in the book.\n",
        "\n"
      ]
    },
    {
      "cell_type": "code",
      "execution_count": null,
      "metadata": {
        "id": "9vBHQaDZKozG"
      },
      "outputs": [],
      "source": [
        "#hint - in order to create a random matrix with specified dimensions M and r you can do this (define M and r before)\n",
        "\n",
        "A = np.random.randn(M,r)"
      ]
    },
    {
      "cell_type": "markdown",
      "metadata": {
        "id": "4yb4ymungiCI"
      },
      "source": [
        "# Exercise 6\n",
        "\n",
        "Solve exercise 6-6 in the book.\n",
        "\n",
        "Hint: An easy way to create a rank-1 matrix is to create a 1x4 matrix for instance, where all values except 1 is zero.\n",
        "\n",
        "The trick is to construct the to matrices, A and B in each of the 3 cases, both with rank 1, in a \"clever\" way, so that the rank of A+B in each instance is rank 0, rank 1 and rank 2.\n",
        "\n",
        "It's optional if you want to try it out with multiplication instead."
      ]
    },
    {
      "cell_type": "markdown",
      "metadata": {
        "id": "uPimEpC8glw4"
      },
      "source": [
        "# Exercise 7\n",
        "\n",
        "Solve exercise 6-8 from the book.\n",
        "You can try it out with different A matrices to see that it still holds"
      ]
    },
    {
      "cell_type": "markdown",
      "metadata": {
        "id": "kik0w2WQ_Yl4"
      },
      "source": [
        "# Exercise 8\n",
        "\n",
        "Solve exercise 6-9 from the book"
      ]
    },
    {
      "cell_type": "code",
      "execution_count": null,
      "metadata": {
        "id": "Io9zgs8CYbNq"
      },
      "outputs": [],
      "source": [
        "#hints - you can easily create random matrices and vectors of any size desired\n",
        "\n",
        "A = np.random.randn(4,3)\n",
        "v = np.random.randn(4,1)\n",
        "\n",
        "#In order to check if a vector is part of the column space, we can\n",
        "#simply \"append\" the vector v to A, calling this matrix A_V, such that\n",
        "#A_V contains an extra column with v - in python this can be done like this:\n",
        "\n",
        "A_V = np.hstack((A,v))\n",
        "\n",
        "#Now if the ranks of A and A_V are the same, then v is in the column space.\n",
        "#If they are different, v is not in the column space.\n",
        "\n",
        "#Why is that the case?\n"
      ]
    }
  ],
  "metadata": {
    "colab": {
      "provenance": [],
      "toc_visible": true
    },
    "kernelspec": {
      "display_name": "Python 3",
      "name": "python3"
    },
    "language_info": {
      "codemirror_mode": {
        "name": "ipython",
        "version": 3
      },
      "file_extension": ".py",
      "mimetype": "text/x-python",
      "name": "python",
      "nbconvert_exporter": "python",
      "pygments_lexer": "ipython3",
      "version": "3.13.2"
    }
  },
  "nbformat": 4,
  "nbformat_minor": 0
}
