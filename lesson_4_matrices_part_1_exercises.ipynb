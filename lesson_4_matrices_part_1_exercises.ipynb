{
  "cells": [
    {
      "cell_type": "markdown",
      "metadata": {
        "id": "JmyjBiPGB1K1"
      },
      "source": [
        "Most of the following exercises will be from book, so the numbers mentioned will reference these exercises. They start on page 76. You can solve them in this notebook and continue to work in it (make a copy first, so you can edit it)"
      ]
    },
    {
      "cell_type": "markdown",
      "metadata": {
        "id": "twGiNov5zqhG"
      },
      "source": [
        "# Exercises - matrices part 1"
      ]
    },
    {
      "cell_type": "code",
      "execution_count": 3,
      "metadata": {
        "id": "fxa69jq0pM7t"
      },
      "outputs": [
        {
          "name": "stderr",
          "output_type": "stream",
          "text": [
            "/var/folders/18/w1gps92x1kzbq_r1gl0_637r0000gn/T/ipykernel_21016/3966143812.py:14: DeprecationWarning: `set_matplotlib_formats` is deprecated since IPython 7.23, directly use `matplotlib_inline.backend_inline.set_matplotlib_formats()`\n",
            "  display.set_matplotlib_formats('svg') # print figures in svg format\n"
          ]
        }
      ],
      "source": [
        "#importing libraries\n",
        "import numpy as np\n",
        "import matplotlib.pyplot as plt\n",
        "\n",
        "# for null spaces\n",
        "import scipy.linalg\n",
        "\n",
        "# a pretty-looking matrix from scipy\n",
        "from scipy.linalg import toeplitz\n",
        "\n",
        "\n",
        "# NOTE: these lines define global figure properties used for publication.\n",
        "from IPython import display\n",
        "display.set_matplotlib_formats('svg') # print figures in svg format\n",
        "plt.rcParams.update({'font.size':14}) # set global font size"
      ]
    },
    {
      "cell_type": "markdown",
      "metadata": {
        "id": "TOWpbtXRzviv"
      },
      "source": [
        "# Exercise 1"
      ]
    },
    {
      "cell_type": "markdown",
      "metadata": {
        "id": "9aMlxCTt0npi"
      },
      "source": [
        "Solve exercise 5-1 from the book."
      ]
    },
    {
      "cell_type": "code",
      "execution_count": 4,
      "metadata": {},
      "outputs": [
        {
          "name": "stdout",
          "output_type": "stream",
          "text": [
            "[[ 0  1  2  3]\n",
            " [ 4  5  6  7]\n",
            " [ 8  9 10 11]]\n",
            "7\n"
          ]
        }
      ],
      "source": [
        "A = np.arange(12).reshape(3,4)\n",
        "print(A)\n",
        "\n",
        "elementA = A[1,3]\n",
        "\n",
        "print(elementA)\n"
      ]
    },
    {
      "cell_type": "markdown",
      "metadata": {
        "id": "YWg1mZ8Czz-b"
      },
      "source": [
        "# Exercise 2\n",
        "\n"
      ]
    },
    {
      "cell_type": "markdown",
      "metadata": {
        "id": "LiOrL1QkDUwY"
      },
      "source": [
        "Solve exercise 5-2 from the book (the numbers in the matrix goes from 0-99 in a 10x10 matrix). You can skip the visualization part of the exercise and come back to it later"
      ]
    },
    {
      "cell_type": "code",
      "execution_count": 5,
      "metadata": {},
      "outputs": [
        {
          "name": "stdout",
          "output_type": "stream",
          "text": [
            "[[ 0  1  2  3  4]\n",
            " [10 11 12 13 14]\n",
            " [20 21 22 23 24]\n",
            " [30 31 32 33 34]\n",
            " [40 41 42 43 44]]\n"
          ]
        }
      ],
      "source": [
        "C = np.arange(100).reshape(10,10)\n",
        "\n",
        "C1 = C[0:5,0:5]\n",
        "print(C1)"
      ]
    },
    {
      "cell_type": "markdown",
      "metadata": {
        "id": "POdLM1DZz3Yq"
      },
      "source": [
        "# Exercise 3\n"
      ]
    },
    {
      "cell_type": "markdown",
      "metadata": {
        "id": "jOYNQjx7DYoL"
      },
      "source": [
        "Solve the first part of exercise 5-3. (so only extract the other four 5x5 blocks, not the reorganized part)"
      ]
    },
    {
      "cell_type": "code",
      "execution_count": 6,
      "metadata": {},
      "outputs": [
        {
          "name": "stdout",
          "output_type": "stream",
          "text": [
            "[[ 0  1  2  3  4]\n",
            " [10 11 12 13 14]\n",
            " [20 21 22 23 24]\n",
            " [30 31 32 33 34]\n",
            " [40 41 42 43 44]]\n",
            "\n",
            "[[ 5  6  7  8  9]\n",
            " [15 16 17 18 19]\n",
            " [25 26 27 28 29]\n",
            " [35 36 37 38 39]\n",
            " [45 46 47 48 49]]\n",
            "\n",
            "[[50 51 52 53 54]\n",
            " [60 61 62 63 64]\n",
            " [70 71 72 73 74]\n",
            " [80 81 82 83 84]\n",
            " [90 91 92 93 94]]\n",
            "\n",
            "[[55 56 57 58 59]\n",
            " [65 66 67 68 69]\n",
            " [75 76 77 78 79]\n",
            " [85 86 87 88 89]\n",
            " [95 96 97 98 99]]\n"
          ]
        }
      ],
      "source": [
        "C1 = C[0:5,0:5]\n",
        "C2 = C[0:5,5:10]\n",
        "C3 = C[5:10,0:5]\n",
        "C4 = C[5:10,5:10]\n",
        "\n",
        "print(C1)\n",
        "print()\n",
        "print(C2)\n",
        "print()\n",
        "print(C3)\n",
        "print()\n",
        "print(C4)"
      ]
    },
    {
      "cell_type": "markdown",
      "metadata": {
        "id": "N7_l07_Tz7Dz"
      },
      "source": [
        "# Exercise 4"
      ]
    },
    {
      "cell_type": "markdown",
      "metadata": {
        "id": "sgOE3-8lDoYX"
      },
      "source": [
        "Solve exercise 5-4 in the book.\n",
        "\n",
        "Hints: to do the double for loop, it will look something like this in python:\n"
      ]
    },
    {
      "cell_type": "code",
      "execution_count": 7,
      "metadata": {
        "id": "aHKp9CCSEJlY"
      },
      "outputs": [
        {
          "name": "stdout",
          "output_type": "stream",
          "text": [
            "[[ 5.  7.  9. 11. 13.]\n",
            " [25. 27. 29. 31. 33.]\n",
            " [45. 47. 49. 51. 53.]\n",
            " [65. 67. 69. 71. 73.]\n",
            " [85. 87. 89. 91. 93.]]\n"
          ]
        }
      ],
      "source": [
        "def addMatrices(A,B):\n",
        "    C = np.zeros(A.shape)\n",
        "    for i in range(A.shape[0]):\n",
        "        for j in range(A.shape[1]):\n",
        "            C[i,j] = A[i,j] + B[i,j]\n",
        "    return C\n",
        "\n",
        "\n",
        "print(addMatrices(C1,C2))"
      ]
    },
    {
      "cell_type": "markdown",
      "metadata": {
        "id": "rGDCv-Dez_wb"
      },
      "source": [
        "# Exercise 5\n"
      ]
    },
    {
      "cell_type": "markdown",
      "metadata": {
        "id": "Brea6ADgEyWx"
      },
      "source": [
        "Solve exercise 5-5 in the book\n",
        "Print out the 3 expressions (first, middle and last expression on the equation line) and compare them.\n",
        "\n",
        "How would you compare if two matrices are equal? (or almost equal, there can be rounding issues)."
      ]
    },
    {
      "cell_type": "code",
      "execution_count": null,
      "metadata": {},
      "outputs": [
        {
          "name": "stdout",
          "output_type": "stream",
          "text": [
            "[[ 0.23901029 -0.1130425   0.61594335 -0.36079053]\n",
            " [-0.82081751 -0.21583397  0.02955139 -0.21745713]\n",
            " [-0.08910826  0.151652   -0.48442856 -0.17096043]]\n",
            "\n",
            "[[ 0.23901029 -0.1130425   0.61594335 -0.36079053]\n",
            " [-0.82081751 -0.21583397  0.02955139 -0.21745713]\n",
            " [-0.08910826  0.151652   -0.48442856 -0.17096043]]\n",
            "\n",
            "[[ 0.23901029 -0.1130425   0.61594335 -0.36079053]\n",
            " [-0.82081751 -0.21583397  0.02955139 -0.21745713]\n",
            " [-0.08910826  0.151652   -0.48442856 -0.17096043]]\n",
            "Are the 3 methods equal?: True\n"
          ]
        }
      ],
      "source": [
        "lambdaScale = np.random.random()\n",
        "\n",
        "A = np.random.randn(3,4)\n",
        "B = np.random.randn(3,4)\n",
        "\n",
        "print(lambdaScale*(addMatrices(A,B)))\n",
        "print()\n",
        "print(addMatrices(lambdaScale*A,lambdaScale*B))\n",
        "print()\n",
        "print(addMatrices(lambdaScale*B,lambdaScale*A))\n",
        "\n",
        "AB1 = np.absolute(lambdaScale*(addMatrices(A,B)))\n",
        "AB2 = np.absolute(addMatrices(lambdaScale*A,lambdaScale*B))\n",
        "AB3 = np.absolute(addMatrices(lambdaScale*B,lambdaScale*A))\n",
        "\n",
        "print(f'Are the 3 methods equal?: {np.allclose(AB1, AB2) and np.allclose(AB2, AB3) and np.allclose(AB3,AB1)}')\n",
        "\n"
      ]
    },
    {
      "cell_type": "markdown",
      "metadata": {
        "id": "cCb2te4K0Rv5"
      },
      "source": [
        "# Exercise 6"
      ]
    },
    {
      "cell_type": "markdown",
      "metadata": {
        "id": "IUBxC1PRFrJ8"
      },
      "source": [
        "Solve exercise 5-6 in the book and compare your manual method the the normal @ operator to multiply two matrices."
      ]
    },
    {
      "cell_type": "code",
      "execution_count": null,
      "metadata": {
        "id": "CONV-g8LGDgC"
      },
      "outputs": [],
      "source": [
        "# Hints - it can be accomplished using a double for loop and then using the np.dot to\n",
        "#calculate the dot product between a row from A and a column from B\n",
        "# remember - if you multiply a m x n matrix by a n x m2 matrix the result\n",
        "# will be a m x m2 matrix - for easy testing set m = m2 in your example\n",
        "# matrices.\n",
        "np.dot( A[rowi,:],B[:,coli] )\n",
        "\n",
        "# Initialize C - result matrix\n",
        "C = np.zeros((m,m))  #\n",
        "#do double for loop and fill out values in C -\n",
        "for rowi in range(m):\n",
        "  for coli in range(m):\n",
        "    # code here..."
      ]
    },
    {
      "cell_type": "markdown",
      "metadata": {
        "id": "MTFDg2cz0VsO"
      },
      "source": [
        "# Exercise 7"
      ]
    },
    {
      "cell_type": "markdown",
      "metadata": {
        "id": "-tguxCdpHfKZ"
      },
      "source": [
        "Solve exercise 5-7 from the book.\n",
        "\n",
        "Repeating the steps (last part of the exercise) with square matrices is optional"
      ]
    },
    {
      "cell_type": "markdown",
      "metadata": {
        "id": "UV8ti-jX0ZUR"
      },
      "source": [
        "# Exercise 8\n",
        "\n",
        "Solve exercise 5-8 from the book\n",
        "\n",
        "Remember - when is a matrix symmetric?\n",
        "When you know the answer to that, you know which two matrices to compare for equality.\n",
        "\\\n",
        "hints:\n",
        "you can use np.allclose to test if values in an array are close\n",
        "\n",
        "https://numpy.org/doc/stable/reference/generated/numpy.allclose.html"
      ]
    },
    {
      "cell_type": "markdown",
      "metadata": {
        "id": "gZz4ZlmU0cDx"
      },
      "source": [
        "# Exercise 9"
      ]
    },
    {
      "cell_type": "markdown",
      "metadata": {
        "id": "OBneNQZEZL_i"
      },
      "source": [
        "Solve exercise 5-9 from the book.\n",
        "\n",
        "Hint:\n",
        "Create a new matrix where all entries (x,y) have the average of the values from the (x,y) element from A and from A.T.\n",
        "\\\n",
        "So equal to (A+A.T)/2...."
      ]
    },
    {
      "cell_type": "markdown",
      "metadata": {
        "id": "tvvBUcQm0fZm"
      },
      "source": [
        "# Exercise 10"
      ]
    },
    {
      "cell_type": "markdown",
      "metadata": {
        "id": "C81prdBVaN1M"
      },
      "source": [
        "Solve exercise 5-10 from the book"
      ]
    },
    {
      "cell_type": "markdown",
      "metadata": {
        "id": "S366_U2s0iRF"
      },
      "source": [
        "# Exercise 11 (optional)\n"
      ]
    },
    {
      "cell_type": "markdown",
      "metadata": {
        "id": "buZB6eBJaUrB"
      },
      "source": [
        "Solve exercise 5-11 from the book\n",
        "\n",
        "Hint: \\\n",
        "To create a matrix where all elements are square roots for another matrix's element simply use:\n",
        "\\\n",
        "\\\n",
        "S = np.sqrt(D) \\\n",
        "\n",
        "To create a diagonal matrix use:\n",
        "np.diag...."
      ]
    },
    {
      "cell_type": "markdown",
      "metadata": {
        "id": "O83RZHrd0kOY"
      },
      "source": [
        "# Exercise 12 (optional)\n"
      ]
    },
    {
      "cell_type": "markdown",
      "metadata": {
        "id": "jrvDuA4GaaaJ"
      },
      "source": [
        "Solve exercise 5-12 from the book"
      ]
    }
  ],
  "metadata": {
    "colab": {
      "provenance": [],
      "toc_visible": true
    },
    "kernelspec": {
      "display_name": "Python 3",
      "name": "python3"
    },
    "language_info": {
      "codemirror_mode": {
        "name": "ipython",
        "version": 3
      },
      "file_extension": ".py",
      "mimetype": "text/x-python",
      "name": "python",
      "nbconvert_exporter": "python",
      "pygments_lexer": "ipython3",
      "version": "3.13.2"
    }
  },
  "nbformat": 4,
  "nbformat_minor": 0
}
