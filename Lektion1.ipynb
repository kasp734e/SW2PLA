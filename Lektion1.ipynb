{
  "cells": [
    {
      "cell_type": "markdown",
      "metadata": {
        "id": "Kk1cZMAPfgMC"
      },
      "source": [
        "# Exercises for Vectors 1"
      ]
    },
    {
      "cell_type": "code",
      "execution_count": 44,
      "metadata": {
        "colab": {
          "base_uri": "https://localhost:8080/"
        },
        "id": "qMKqx2LhgVDK",
        "outputId": "fc452364-4409-430a-afcd-72a56f84b218"
      },
      "outputs": [
        {
          "name": "stdout",
          "output_type": "stream",
          "text": [
            "Hello\n"
          ]
        }
      ],
      "source": [
        "print(\"Hello\")"
      ]
    },
    {
      "cell_type": "markdown",
      "metadata": {
        "id": "7Nnhx8VFgcP9"
      },
      "source": [
        "# ***Hi. I reallyu did not understand this !***"
      ]
    },
    {
      "cell_type": "markdown",
      "metadata": {
        "id": "CYzMAIBFX0YO"
      },
      "source": [
        "# Exercise 1\n",
        "\n",
        "The following code creates some vectors, but when executed it issues an error:\n",
        "\n",
        "\"NameError: name 'np' is not defined\"\n",
        "\n",
        "What could be the cause of it? See slide \"Creating  Vectors In NumPy​\"...\n",
        "\n",
        "Correct the code to be able to run it!"
      ]
    },
    {
      "cell_type": "code",
      "execution_count": 1,
      "metadata": {
        "id": "UV_5pPugXoeO"
      },
      "outputs": [],
      "source": [
        "# Insert your correction here\n",
        "import numpy as np\n",
        "# a vector as a Python list datatype\n",
        "asList = [1,2,3]\n",
        "\n",
        "# same numbers, but as a dimensionless numpy array\n",
        "asArray = np.array([1,2,3])\n",
        "\n",
        "# again same numbers, but now endowed with orientations\n",
        "rowVec = np.array([ [1,2,3] ]) # row\n",
        "colVec = np.array([ [1],[2],[3] ]) # column\n",
        "\n",
        "# Note the use of spacing when defining the vectors; that is not necessary but makes the code more readable."
      ]
    },
    {
      "cell_type": "markdown",
      "metadata": {
        "id": "EjdTIHKLfrQF"
      },
      "source": [
        "# Exercise 2\n",
        "\n",
        "After correcting the notebook, you will be able to check the shape of the created vectors with the following code.\n",
        "     "
      ]
    },
    {
      "cell_type": "code",
      "execution_count": 2,
      "metadata": {
        "id": "rry979VrZ_i0"
      },
      "outputs": [
        {
          "name": "stdout",
          "output_type": "stream",
          "text": [
            "asList:  (3,)\n",
            "asArray: (3,)\n",
            "rowVec:  (1, 3)\n",
            "colVec:  (3, 1)\n"
          ]
        }
      ],
      "source": [
        "# Check the sizes of the variables\n",
        "print(f'asList:  {np.shape(asList)}') # using np's shape function\n",
        "print(f'asArray: {asArray.shape}') # using a method associated with numpy objects\n",
        "print(f'rowVec:  {rowVec.shape}')\n",
        "print(f'colVec:  {colVec.shape}')"
      ]
    },
    {
      "cell_type": "markdown",
      "metadata": {
        "id": "uqldIv2Iawvw"
      },
      "source": [
        "Check the API definition of the **type** funtion in Python and call it on asList, asArray, rowVec, and colVec."
      ]
    },
    {
      "cell_type": "code",
      "execution_count": 5,
      "metadata": {
        "id": "h-6Pc-Ada0lu"
      },
      "outputs": [
        {
          "name": "stdout",
          "output_type": "stream",
          "text": [
            "<class 'list'>\n",
            "<class 'numpy.ndarray'>\n",
            "<class 'numpy.ndarray'>\n",
            "<class 'numpy.ndarray'>\n"
          ]
        }
      ],
      "source": [
        "# Your solution here\n",
        "print(type(asList))\n",
        "print(type(asArray))\n",
        "print(type(rowVec))\n",
        "print(type(colVec))"
      ]
    },
    {
      "cell_type": "markdown",
      "metadata": {
        "id": "Qjs-_xnNa3Rl"
      },
      "source": [
        "What is the meaning of the different results?"
      ]
    },
    {
      "cell_type": "markdown",
      "metadata": {},
      "source": [
        "The first one is a list the other ones are numpy arrays "
      ]
    },
    {
      "cell_type": "markdown",
      "metadata": {
        "id": "-uYolH9BJK_A"
      },
      "source": [
        "# Exercise 3\n",
        " Create two row vectors u and v, where u contains the elements 2 and 5 and v contains the elements 1 and 3. Create also two column vectors  x and y where x contains elements 3, 4, and 7; and y contains elements 2, 8, and 3."
      ]
    },
    {
      "cell_type": "code",
      "execution_count": 20,
      "metadata": {},
      "outputs": [],
      "source": [
        "# Row vectors\n",
        "u = np.array([[2,5]])\n",
        "v = np.array([[1,3]])\n",
        "\n",
        "# Column vectors\n",
        "x = np.array([[3],[4],[7]])\n",
        "y = np.array([[2],[8],[3]])"
      ]
    },
    {
      "cell_type": "markdown",
      "metadata": {
        "id": "W78-Q8eFfvHm"
      },
      "source": [
        "# Exercise 4\n",
        "Calculate the following operations:\n",
        "\n",
        "\n",
        "*   u + v\n",
        "*   u - v\n",
        "*   x + y\n",
        "*   y - x"
      ]
    },
    {
      "cell_type": "code",
      "execution_count": 8,
      "metadata": {},
      "outputs": [
        {
          "name": "stdout",
          "output_type": "stream",
          "text": [
            "[3 8]\n",
            "[1 2]\n",
            "[[ 5]\n",
            " [12]\n",
            " [10]]\n",
            "[[-1]\n",
            " [ 4]\n",
            " [-4]]\n"
          ]
        }
      ],
      "source": [
        "print(u+v)\n",
        "print(u-v)\n",
        "print(x+y)\n",
        "print(y-x)"
      ]
    },
    {
      "cell_type": "markdown",
      "metadata": {
        "id": "MiwTLsRDgPor"
      },
      "source": [
        "# Exercise 5\n",
        "Given a scalar λ = 4. Multiply λ by x."
      ]
    },
    {
      "cell_type": "code",
      "execution_count": 9,
      "metadata": {},
      "outputs": [
        {
          "name": "stdout",
          "output_type": "stream",
          "text": [
            "[[12]\n",
            " [16]\n",
            " [28]]\n"
          ]
        }
      ],
      "source": [
        "print(4*x)"
      ]
    },
    {
      "cell_type": "markdown",
      "metadata": {
        "id": "eC8X4s1p5-8c"
      },
      "source": [
        "# Exercise 6\n",
        "\n",
        "\n",
        "Check the documentation of the function [zeros](https://numpy.org/doc/stable/reference/generated/numpy.zeros.html).\n",
        "\n",
        "Create a row vector with 5 zeros and a column vector with 2 zeros."
      ]
    },
    {
      "cell_type": "code",
      "execution_count": null,
      "metadata": {
        "id": "sB1frtrz5-jb"
      },
      "outputs": [],
      "source": [
        "np.zeros(5)\n",
        "np.zeros(2,1)"
      ]
    },
    {
      "cell_type": "markdown",
      "metadata": {
        "id": "192iDjFpgVTZ"
      },
      "source": [
        "# Exercise 7\n",
        "\n",
        "Create a new vector vT, that is the vector transpose of vector v.\n",
        "\n",
        "Create a new vector xT, that is the vector transpose of vector x.\n",
        "\n",
        "Print all 4 vectors."
      ]
    },
    {
      "cell_type": "code",
      "execution_count": 21,
      "metadata": {
        "id": "ZWRQXh_Mc5Uo"
      },
      "outputs": [
        {
          "name": "stdout",
          "output_type": "stream",
          "text": [
            "[[1 3]]\n",
            "\n",
            "\n",
            "[[1]\n",
            " [3]]\n",
            "\n",
            "\n",
            "[[3]\n",
            " [4]\n",
            " [7]]\n",
            "\n",
            "\n",
            "[[3 4 7]]\n"
          ]
        }
      ],
      "source": [
        "vT = v.T\n",
        "xT = x.T\n",
        "\n",
        "print(v)\n",
        "print(\"\\n\")\n",
        "print(vT)\n",
        "print(\"\\n\")\n",
        "print(x)\n",
        "print(\"\\n\")\n",
        "print(xT)\n"
      ]
    },
    {
      "cell_type": "markdown",
      "metadata": {
        "id": "X0_5KrQvo_Y7"
      },
      "source": [
        "## Exercise 8\n",
        "\n",
        "Given vectors a and b defined below:\n",
        "\n",
        "```\n",
        "a = np.array([1, 2, 3])\n",
        "b = np.array([[10],\n",
        "              [20],\n",
        "              [30]])\n",
        "```\n",
        "when we print their sum\n",
        "\n",
        "```\n",
        "print(a+b)\n",
        "```\n",
        "We obtain the following array as a result:\n",
        "```\n",
        "[[11 12 13]\n",
        " [21 22 23]\n",
        " [31 32 33]]\n",
        "```\n",
        "\n",
        "What is the meaning of this operation? Is this a valid operation of Linear Algebra? You can build your argument from the NumPy [documentation](https://numpy.org/doc/stable/user/basics.broadcasting.html).\n",
        "\n"
      ]
    },
    {
      "cell_type": "markdown",
      "metadata": {},
      "source": [
        "This is broadcasting. It makes sure that the vectors are the same shape aka it makes a matrix"
      ]
    },
    {
      "cell_type": "markdown",
      "metadata": {
        "id": "9veYeyZopwLh"
      },
      "source": [
        "# Exercise 9\n",
        "\n",
        "Calculate the norm of vector w."
      ]
    },
    {
      "cell_type": "code",
      "execution_count": 24,
      "metadata": {
        "id": "QbdJmm5XpzIl"
      },
      "outputs": [
        {
          "name": "stdout",
          "output_type": "stream",
          "text": [
            "29.732137494637012\n"
          ]
        }
      ],
      "source": [
        "w = np.array([[8],[6],[28]])\n",
        "print(np.linalg.norm(w))"
      ]
    },
    {
      "cell_type": "markdown",
      "metadata": {
        "id": "uPimEpC8glw4"
      },
      "source": [
        "# Exercise 10\n",
        "\n",
        "Create a Python function \"toUnit\" that will take a vector as input and output a unit vector in the same direction.\n",
        "\n",
        "Hints:\n",
        "\n",
        "*   Check how to define functions in this [link](https://www.w3schools.com/python/python_functions.asp)\n",
        "*   Learn the different arithmetic operators in [here](https://www.w3schools.com/python/gloss_python_arithmetic_operators.asp)\n",
        "\n",
        "\n",
        "Try your function with vector w. Do not forget to check that the norm of the output vector is indeed 1.\n",
        "\n",
        "What happens when you input the zeros vector?\n"
      ]
    },
    {
      "cell_type": "code",
      "execution_count": 30,
      "metadata": {},
      "outputs": [
        {
          "name": "stdout",
          "output_type": "stream",
          "text": [
            "[[0.26906912]\n",
            " [0.20180184]\n",
            " [0.94174191]]\n",
            "1.0\n"
          ]
        }
      ],
      "source": [
        "def toUnit(vector):\n",
        "    return (vector/np.linalg.norm(vector))\n",
        "\n",
        "print(toUnit(w))\n",
        "print(np.linalg.norm(toUnit(w)))"
      ]
    },
    {
      "cell_type": "markdown",
      "metadata": {
        "id": "kik0w2WQ_Yl4"
      },
      "source": [
        "## Exercise 11\n",
        "Given a and b defined below.\n",
        "\n",
        "Calculate the dot product of a and b.\n"
      ]
    },
    {
      "cell_type": "code",
      "execution_count": 31,
      "metadata": {
        "id": "7JEOE_dfu6h9"
      },
      "outputs": [
        {
          "name": "stdout",
          "output_type": "stream",
          "text": [
            "[[32]]\n"
          ]
        }
      ],
      "source": [
        "a = np.array([[1,2,3]])\n",
        "b = np.array([[4],[5],[6]])\n",
        "\n",
        "# Your solution here\n",
        "print(np.dot(a,b))"
      ]
    },
    {
      "cell_type": "markdown",
      "metadata": {
        "id": "0TpUJZJxu3Ol"
      },
      "source": [
        "# Exercise 12\n",
        "\n",
        "The dot product is commutative, so if you compute the dot product of b and a you would expect the same result. That is 32.\n",
        "\n",
        "What happened when you computed the dot product of b and a?\n",
        "\n",
        "Get a hint on why that happens on the [documentation](https://numpy.org/doc/stable/reference/generated/numpy.dot.html)\n",
        "\n",
        "\n",
        "Could you solve this issues by using the vector transpose?"
      ]
    },
    {
      "cell_type": "markdown",
      "metadata": {},
      "source": [
        "## Svar\n",
        "Det ser ud til at være ligesom broadcast, hvis jeg transposer b får jeg nok et svar der ligner det jeg vil ha, da de så er samme form."
      ]
    },
    {
      "cell_type": "code",
      "execution_count": 42,
      "metadata": {},
      "outputs": [
        {
          "name": "stdout",
          "output_type": "stream",
          "text": [
            "[[ 4  8 12]\n",
            " [ 5 10 15]\n",
            " [ 6 12 18]]\n"
          ]
        }
      ],
      "source": [
        "print(np.dot(b,a))"
      ]
    },
    {
      "cell_type": "code",
      "execution_count": 43,
      "metadata": {},
      "outputs": [
        {
          "name": "stdout",
          "output_type": "stream",
          "text": [
            "[[32]]\n"
          ]
        }
      ],
      "source": [
        "print(np.dot(b.T, a.T))"
      ]
    },
    {
      "cell_type": "markdown",
      "metadata": {},
      "source": [
        "Det var ikke hvad jeg havde forventet. Jeg skulle transpose begge vectorer for at på det til at fungere. \n",
        "\n",
        "Det giver mening i den forstand at dimentionerne af vectorerene bliver byttet rundt så de er ligesom i np.dot(a,b). \n",
        "\n",
        "Dog forstår jeg ikke hvorfor de ikke fungerer normalt hvis jeg kun transposer 1."
      ]
    }
  ],
  "metadata": {
    "colab": {
      "provenance": []
    },
    "kernelspec": {
      "display_name": "base",
      "language": "python",
      "name": "python3"
    },
    "language_info": {
      "codemirror_mode": {
        "name": "ipython",
        "version": 3
      },
      "file_extension": ".py",
      "mimetype": "text/x-python",
      "name": "python",
      "nbconvert_exporter": "python",
      "pygments_lexer": "ipython3",
      "version": "3.11.4"
    }
  },
  "nbformat": 4,
  "nbformat_minor": 0
}
